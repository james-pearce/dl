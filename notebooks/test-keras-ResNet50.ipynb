{
 "cells": [
  {
   "cell_type": "code",
   "execution_count": 1,
   "metadata": {},
   "outputs": [
    {
     "name": "stderr",
     "output_type": "stream",
     "text": [
      "/anaconda/envs/py35/lib/python3.5/site-packages/h5py/__init__.py:36: FutureWarning: Conversion of the second argument of issubdtype from `float` to `np.floating` is deprecated. In future, it will be treated as `np.float64 == np.dtype(float).type`.\n",
      "  from ._conv import register_converters as _register_converters\n",
      "Using TensorFlow backend.\n"
     ]
    }
   ],
   "source": [
    "# import the necessary packages\n",
    "from keras.applications import ResNet50\n",
    "from keras.applications import imagenet_utils\n",
    "from keras.preprocessing.image import img_to_array\n",
    "from keras.preprocessing.image import load_img\n",
    "from sklearn.preprocessing import LabelEncoder\n",
    "from sklearn.linear_model import LogisticRegression\n",
    "from sklearn.model_selection import GridSearchCV\n",
    "from sklearn.metrics import classification_report\n",
    "from sklearn.metrics import accuracy_score\n",
    "from imutils import paths\n",
    "import numpy as np\n",
    "import progressbar\n",
    "import random\n",
    "import os"
   ]
  },
  {
   "cell_type": "code",
   "execution_count": 2,
   "metadata": {},
   "outputs": [],
   "source": [
    "# since we are not using command line arguments (like we typically\n",
    "# would inside Deep Learning for Computer Vision with Python, let's\n",
    "# \"pretend\" we are by using an `args` dictionary -- this will enable\n",
    "# us to easily reuse and swap out code depending if we are using the\n",
    "# command line or Jupyter Notebook\n",
    "args = {\n",
    "    \"dataset\": \"/home/james/data/dogscats/train\",\n",
    "    \"batch_size\": 32,\n",
    "}\n",
    "\n",
    "# store the batch size in a convenience variable\n",
    "bs = args[\"batch_size\"]"
   ]
  },
  {
   "cell_type": "code",
   "execution_count": 3,
   "metadata": {},
   "outputs": [
    {
     "name": "stdout",
     "output_type": "stream",
     "text": [
      "25000\n"
     ]
    }
   ],
   "source": [
    "# grab the list of images in the Kaggle Dogs vs. Cats download and# grab  \n",
    "# shuffle them to allow for easy training and testing splits via\n",
    "# array slicing during training time\n",
    "imagePaths = list(paths.list_images(args[\"dataset\"]))\n",
    "\n",
    "random.seed(2027)\n",
    "random.shuffle(imagePaths)\n",
    "print(len(imagePaths))"
   ]
  },
  {
   "cell_type": "markdown",
   "metadata": {},
   "source": [
    "All files in the Dogs vs. Cats dataset have filenames such as `cat.153.jpg` or `dog.4375.jpg` – since the class labels are baked right into the filenames, we can easily extract them before the dot."
   ]
  },
  {
   "cell_type": "code",
   "execution_count": 4,
   "metadata": {},
   "outputs": [],
   "source": [
    "# extract the class labels from the image paths then encode the\n",
    "# labels\n",
    "labels = [p.split(os.path.sep)[-1].split(\".\")[0] for p in imagePaths]\n",
    "le = LabelEncoder()\n",
    "labels = le.fit_transform(labels)"
   ]
  },
  {
   "cell_type": "markdown",
   "metadata": {},
   "source": [
    "Download the `ResNet50` weights and load the model. This took around half an hour on a slow connection.\n",
    "\n",
    "Python would not download the weights on this connections, so downloaded separately from https://github.com/fchollet/deep-learning-models/releases/download/v0.2/resnet50_weights_tf_dim_ordering_tf_kernels_notop.h5 and stored in `~/.keras/models`.\n",
    "\n",
    "In order to perform feature extraction, we need a pre-trained network – `ResNet50` is a good choice for this application. Notice how we have set `include_top=False` to leave off the fully-connected layers, enabling us to easily perform feature extraction."
   ]
  },
  {
   "cell_type": "code",
   "execution_count": 5,
   "metadata": {},
   "outputs": [],
   "source": [
    "# load the ResNet50 network (i.e., the network we'll be using for\n",
    "# feature extraction)\n",
    "\n",
    "model = ResNet50(weights=\"imagenet\", include_top=False)"
   ]
  },
  {
   "cell_type": "markdown",
   "metadata": {},
   "source": [
    "Once we have all image paths we need to loop over them individually and build batches to pass through the network for feature extraction."
   ]
  },
  {
   "cell_type": "code",
   "execution_count": 17,
   "metadata": {},
   "outputs": [],
   "source": [
    "percentage = 0.1\n",
    "\n",
    "k = int(len(imagePaths) * percentage)\n",
    "# indices = random.sample(range(len(imagePaths)), k)\n",
    "\n",
    "imagePaths_sample = imagePaths[:k]\n",
    "labels_sample = labels[:k]"
   ]
  },
  {
   "cell_type": "code",
   "execution_count": 18,
   "metadata": {},
   "outputs": [
    {
     "data": {
      "text/plain": [
       "2500"
      ]
     },
     "execution_count": 18,
     "metadata": {},
     "output_type": "execute_result"
    }
   ],
   "source": [
    "len(imagePaths_sample)"
   ]
  },
  {
   "cell_type": "code",
   "execution_count": 19,
   "metadata": {},
   "outputs": [
    {
     "data": {
      "text/plain": [
       "2500"
      ]
     },
     "execution_count": 19,
     "metadata": {},
     "output_type": "execute_result"
    }
   ],
   "source": [
    "len(labels_sample)"
   ]
  },
  {
   "cell_type": "code",
   "execution_count": 20,
   "metadata": {},
   "outputs": [
    {
     "name": "stderr",
     "output_type": "stream",
     "text": [
      "Extracting Features:   0% |                                    | ETA:  --:--:--\r"
     ]
    }
   ],
   "source": [
    "# initialize the progress bar\n",
    "widgets = [\"Extracting Features: \", progressbar.Percentage(), \" \",\n",
    "    progressbar.Bar(), \" \", progressbar.ETA()]\n",
    "pbar = progressbar.ProgressBar(maxval=len(imagePaths_sample),\n",
    "    widgets=widgets).start()"
   ]
  },
  {
   "cell_type": "code",
   "execution_count": 21,
   "metadata": {},
   "outputs": [
    {
     "name": "stderr",
     "output_type": "stream",
     "text": [
      "Extracting Features:  98% |#################################### | ETA:  0:00:08\r"
     ]
    },
    {
     "name": "stdout",
     "output_type": "stream",
     "text": [
      "CPU times: user 35min 31s, sys: 1min 59s, total: 37min 30s\n",
      "Wall time: 10min 5s\n"
     ]
    },
    {
     "name": "stderr",
     "output_type": "stream",
     "text": [
      "Extracting Features:  99% |#################################### | ETA:  0:00:00\r",
      "Extracting Features: 100% |#####################################| Time: 0:10:09\r\n"
     ]
    }
   ],
   "source": [
    "%%time\n",
    "# initialize our data matrix (where we will store our extracted\n",
    "# features)\n",
    "data = None\n",
    "\n",
    "# loop over the images in batches\n",
    "for i in np.arange(0, len(imagePaths_sample), bs):\n",
    "    # extract the batch of images and labels, then initialize the\n",
    "    # list of actual images that will be passed through the network\n",
    "    # for feature extraction\n",
    "    batchPaths = imagePaths_sample[i:i + bs]\n",
    "    batchLabels = labels_sample[i:i + bs]\n",
    "    batchImages = []\n",
    "    \n",
    "    # loop over the images and labels in the current batch\n",
    "    for (j, imagePath) in enumerate(batchPaths):\n",
    "        # load the input image using the Keras helper utility\n",
    "        # while ensuring the image is resized to 224x224 pixels\n",
    "        image = load_img(imagePath, target_size=(224, 224))\n",
    "        image = img_to_array(image)\n",
    "\n",
    "        # preprocess the image by (1) expanding the dimensions and\n",
    "        # (2) subtracting the mean RGB pixel intensity from the\n",
    "        # ImageNet dataset\n",
    "        image = np.expand_dims(image, axis=0)\n",
    "        image = imagenet_utils.preprocess_input(image)\n",
    "\n",
    "        # add the image to the batch\n",
    "        batchImages.append(image)\n",
    "\n",
    "    # pass the images through the network and use the outputs as\n",
    "    # our actual features\n",
    "#     print(1)\n",
    "#     print(image.shape)\n",
    "    batchImages = np.vstack(batchImages)\n",
    "#     print(2)\n",
    "    features = model.predict(batchImages, batch_size=bs)\n",
    "\n",
    "    # reshape the features so that each image is represented by\n",
    "    # a flattened feature vector of the `MaxPooling2D` outputs\n",
    "#     print(features.shape)\n",
    "    features = features.reshape((features.shape[0], 2048))\n",
    "    \n",
    "    # if our data matrix is None, initialize it\n",
    "    if data is None:\n",
    "        data = features\n",
    "    \n",
    "    # otherwise, stack the data and features together\n",
    "    else:\n",
    "        data = np.vstack([data, features])\n",
    "    \n",
    "    # update the progress bar\n",
    "    pbar.update(i)\n",
    "\n",
    "# finish up the progress bar\n",
    "pbar.finish()"
   ]
  },
  {
   "cell_type": "markdown",
   "metadata": {},
   "source": [
    "This looks like it took about 1 hour 15 minutes. Will need to trim down to try in class. Sample to say 5000 of each?\n",
    "\n",
    "A 10% sample took 37min 55s.  \n",
    "Next run 20% took 21min 15s.  \n",
    "40% took 2 hours or 40 minutes??"
   ]
  },
  {
   "cell_type": "code",
   "execution_count": 22,
   "metadata": {},
   "outputs": [],
   "source": [
    "# data = np.load('dogscats_features.npy')"
   ]
  },
  {
   "cell_type": "code",
   "execution_count": 23,
   "metadata": {},
   "outputs": [
    {
     "name": "stdout",
     "output_type": "stream",
     "text": [
      "(2500, 2048)\n",
      "20480000\n"
     ]
    }
   ],
   "source": [
    "# show the data matrix shape and amount of memory it consumes\n",
    "print(data.shape)\n",
    "print(data.nbytes)"
   ]
  },
  {
   "cell_type": "code",
   "execution_count": 24,
   "metadata": {},
   "outputs": [
    {
     "name": "stdout",
     "output_type": "stream",
     "text": [
      "[INFO] tuning hyperparameters...\n",
      "[INFO] best hyperparameters: {'C': 1.0}\n",
      "CPU times: user 1.53 s, sys: 177 ms, total: 1.71 s\n",
      "Wall time: 4.11 s\n"
     ]
    }
   ],
   "source": [
    "%%time\n",
    "# determine the index of the training and testing split (75% for\n",
    "# training and 25% for testing)\n",
    "i = int(data.shape[0] * 0.75)\n",
    "\n",
    "# define the set of parameters that we want to tune then start a\n",
    "# grid search where we evaluate our model for each value of C\n",
    "print(\"[INFO] tuning hyperparameters...\")\n",
    "params = {\"C\": [0.0001, 0.001, 0.01, 0.1, 1.0]}\n",
    "clf = GridSearchCV(LogisticRegression(), params, cv=3, n_jobs=-1)\n",
    "clf.fit(data[:i], labels_sample[:i])\n",
    "print(\"[INFO] best hyperparameters: {}\".format(clf.best_params_))"
   ]
  },
  {
   "cell_type": "code",
   "execution_count": 25,
   "metadata": {},
   "outputs": [
    {
     "name": "stdout",
     "output_type": "stream",
     "text": [
      "[INFO] evaluating...\n",
      "             precision    recall  f1-score   support\n",
      "\n",
      "        cat       0.99      0.99      0.99       297\n",
      "        dog       0.99      0.99      0.99       328\n",
      "\n",
      "avg / total       0.99      0.99      0.99       625\n",
      "\n",
      "[INFO] score: 0.9872\n"
     ]
    }
   ],
   "source": [
    "# generate a classification report for the model\n",
    "print(\"[INFO] evaluating...\")\n",
    "preds = clf.predict(data[i:])\n",
    "print(classification_report(labels_sample[i:], preds, target_names=le.classes_))\n",
    "\n",
    "# compute the raw accuracy with extra precision\n",
    "acc = accuracy_score(labels_sample[i:], preds)\n",
    "print(\"[INFO] score: {}\".format(acc))\n"
   ]
  },
  {
   "cell_type": "markdown",
   "metadata": {},
   "source": [
    "> **To do:** pickle the file that I create.\n",
    "  Use H2O as well, for example, AutoML.\n",
    "  \n",
    " 10%: 0.9872!!"
   ]
  },
  {
   "cell_type": "code",
   "execution_count": 26,
   "metadata": {},
   "outputs": [],
   "source": [
    "np.save('dogscats_features', data)"
   ]
  },
  {
   "cell_type": "markdown",
   "metadata": {},
   "source": [
    "Save the predictions and the labels as well so we don't need to run through the feature extraction."
   ]
  },
  {
   "cell_type": "code",
   "execution_count": 14,
   "metadata": {},
   "outputs": [
    {
     "data": {
      "text/plain": [
       "GridSearchCV(cv=3, error_score='raise',\n",
       "       estimator=LogisticRegression(C=1.0, class_weight=None, dual=False, fit_intercept=True,\n",
       "          intercept_scaling=1, max_iter=100, multi_class='ovr', n_jobs=1,\n",
       "          penalty='l2', random_state=None, solver='liblinear', tol=0.0001,\n",
       "          verbose=0, warm_start=False),\n",
       "       fit_params=None, iid=True, n_jobs=-1,\n",
       "       param_grid={'C': [0.0001, 0.001, 0.01, 0.1, 1.0]},\n",
       "       pre_dispatch='2*n_jobs', refit=True, return_train_score='warn',\n",
       "       scoring=None, verbose=0)"
      ]
     },
     "execution_count": 14,
     "metadata": {},
     "output_type": "execute_result"
    }
   ],
   "source": [
    "np.save('labels_sample', labels_sample)\n",
    "np.save('predictions', preds)\n",
    "\n",
    "# save the paths\n",
    "np.save('imagePaths_sample', imagePaths_sample)"
   ]
  },
  {
   "cell_type": "code",
   "execution_count": null,
   "metadata": {},
   "outputs": [],
   "source": []
  }
 ],
 "metadata": {
  "kernelspec": {
   "display_name": "Python 3",
   "language": "python",
   "name": "python3"
  },
  "language_info": {
   "codemirror_mode": {
    "name": "ipython",
    "version": 3
   },
   "file_extension": ".py",
   "mimetype": "text/x-python",
   "name": "python",
   "nbconvert_exporter": "python",
   "pygments_lexer": "ipython3",
   "version": "3.6.6"
  }
 },
 "nbformat": 4,
 "nbformat_minor": 2
}
