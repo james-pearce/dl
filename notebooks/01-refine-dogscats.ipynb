{
 "cells": [
  {
   "cell_type": "markdown",
   "metadata": {},
   "source": [
    "# Refine model\n",
    "\n",
    "We have created a basic model from features derived from ImageNet using a ResNet50 model without the final layer. A simple model gave us classification accuracy of 98%.\n",
    "\n",
    "Can we do better?"
   ]
  },
  {
   "cell_type": "code",
   "execution_count": 1,
   "metadata": {},
   "outputs": [],
   "source": [
    "from imutils import paths\n",
    "import numpy as np\n",
    "import pandas as pd\n",
    "import os\n",
    "import random\n",
    "import h2o"
   ]
  },
  {
   "cell_type": "markdown",
   "metadata": {},
   "source": [
    "See http://docs.h2o.ai/h2o/latest-stable/h2o-docs/downloading.html for installation instructions for H2O.\n",
    "\n",
    "Read in the data we saved previously."
   ]
  },
  {
   "cell_type": "code",
   "execution_count": 2,
   "metadata": {},
   "outputs": [
    {
     "data": {
      "text/plain": [
       "['predictions.npy',\n",
       " 'james@23.101.211.254',\n",
       " '00-cats-dogs-example.ipynb',\n",
       " 'dogscats_features.npy',\n",
       " '01-refine-dogscats.ipynb',\n",
       " 'test-keras-ResNet50.ipynb',\n",
       " '.ipynb_checkpoints',\n",
       " 'labels_sample.npy',\n",
       " 'imagePaths_sample.npy']"
      ]
     },
     "execution_count": 2,
     "metadata": {},
     "output_type": "execute_result"
    }
   ],
   "source": [
    "os.listdir()"
   ]
  },
  {
   "cell_type": "code",
   "execution_count": 5,
   "metadata": {},
   "outputs": [],
   "source": [
    "dogscats_df = pd.DataFrame(np.load('dogscats_features.npy'))\n",
    "\n",
    "dogscats_df['label'] = np.load('labels_sample.npy')\n",
    "\n",
    "dogscats_df['imagePath'] = np.load('imagePaths_sample.npy')"
   ]
  },
  {
   "cell_type": "markdown",
   "metadata": {},
   "source": [
    "We only have predictions for the last 25% of the values. Load these into the dataframe."
   ]
  },
  {
   "cell_type": "code",
   "execution_count": 13,
   "metadata": {},
   "outputs": [
    {
     "data": {
      "text/plain": [
       "1875"
      ]
     },
     "execution_count": 13,
     "metadata": {},
     "output_type": "execute_result"
    }
   ],
   "source": [
    "i = int(dogscats_df.shape[0] * 0.75)\n",
    "\n",
    "\n",
    "dogscats_df.loc[i:, 'pred_00'] = np.load('predictions.npy')\n"
   ]
  },
  {
   "cell_type": "code",
   "execution_count": null,
   "metadata": {},
   "outputs": [],
   "source": []
  }
 ],
 "metadata": {
  "kernelspec": {
   "display_name": "Python 3",
   "language": "python",
   "name": "python3"
  },
  "language_info": {
   "codemirror_mode": {
    "name": "ipython",
    "version": 3
   },
   "file_extension": ".py",
   "mimetype": "text/x-python",
   "name": "python",
   "nbconvert_exporter": "python",
   "pygments_lexer": "ipython3",
   "version": "3.6.6"
  }
 },
 "nbformat": 4,
 "nbformat_minor": 2
}
