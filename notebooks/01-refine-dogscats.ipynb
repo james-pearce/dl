{
 "cells": [
  {
   "cell_type": "markdown",
   "metadata": {},
   "source": [
    "# Refine model\n",
    "\n",
    "We have created a basic model from features derived from ImageNet using a ResNet50 model without the final layer. A simple model gave us classification accuracy of 98%.\n",
    "\n",
    "Can we do better?"
   ]
  },
  {
   "cell_type": "code",
   "execution_count": 1,
   "metadata": {},
   "outputs": [],
   "source": [
    "from imutils import paths\n",
    "import numpy as np\n",
    "import pandas as pd\n",
    "import os\n",
    "import random\n",
    "import h2o"
   ]
  },
  {
   "cell_type": "markdown",
   "metadata": {},
   "source": [
    "See http://docs.h2o.ai/h2o/latest-stable/h2o-docs/downloading.html for installation instructions for H2O.\n",
    "\n",
    "Read in the data we saved previously."
   ]
  },
  {
   "cell_type": "code",
   "execution_count": 2,
   "metadata": {},
   "outputs": [
    {
     "data": {
      "text/plain": [
       "['predictions.npy',\n",
       " '00-cats-dogs-example.ipynb',\n",
       " 'dogscats_features.npy',\n",
       " '01-refine-dogscats.ipynb',\n",
       " 'test-keras-ResNet50.ipynb',\n",
       " '.ipynb_checkpoints',\n",
       " 'labels_sample.npy',\n",
       " 'imagePaths_sample.npy']"
      ]
     },
     "execution_count": 2,
     "metadata": {},
     "output_type": "execute_result"
    }
   ],
   "source": [
    "os.listdir()"
   ]
  },
  {
   "cell_type": "code",
   "execution_count": 3,
   "metadata": {},
   "outputs": [],
   "source": [
    "dogscats_df = pd.DataFrame(np.load('dogscats_features.npy'))\n",
    "dogscats_df.columns = [\"X_\" + str(col) for col in dogscats_df.columns]\n",
    "predictors = dogscats_df.columns.tolist()\n",
    "\n",
    "dogscats_df['label'] = np.load('labels_sample.npy')\n",
    "\n",
    "dogscats_df['imagePath'] = np.load('imagePaths_sample.npy')"
   ]
  },
  {
   "cell_type": "markdown",
   "metadata": {},
   "source": [
    "We only have predictions for the last 25% of the values. Load these into the dataframe."
   ]
  },
  {
   "cell_type": "code",
   "execution_count": 4,
   "metadata": {},
   "outputs": [],
   "source": [
    "i = int(dogscats_df.shape[0] * 0.75)\n",
    "\n",
    "\n",
    "dogscats_df.loc[i:, 'pred_00'] = np.load('predictions.npy')\n",
    "\n"
   ]
  },
  {
   "cell_type": "code",
   "execution_count": 5,
   "metadata": {},
   "outputs": [
    {
     "data": {
      "text/plain": [
       "1887     /home/james/data/dogscats/train/cat.2817.jpg\n",
       "2085     /home/james/data/dogscats/train/cat.3822.jpg\n",
       "2090    /home/james/data/dogscats/train/cat.11243.jpg\n",
       "2264     /home/james/data/dogscats/train/dog.5886.jpg\n",
       "Name: imagePath, dtype: object"
      ]
     },
     "execution_count": 5,
     "metadata": {},
     "output_type": "execute_result"
    }
   ],
   "source": [
    "test_df = dogscats_df.loc[dogscats_df['pred_00'].notnull()]\n",
    "test_df.loc[test_df['pred_00'] != test_df['label'], 'imagePath']"
   ]
  },
  {
   "cell_type": "markdown",
   "metadata": {},
   "source": [
    "Examine the misclassifications."
   ]
  },
  {
   "cell_type": "code",
   "execution_count": 6,
   "metadata": {},
   "outputs": [],
   "source": [
    "from h2o.automl import H2OAutoML\n"
   ]
  },
  {
   "cell_type": "code",
   "execution_count": 7,
   "metadata": {},
   "outputs": [
    {
     "name": "stdout",
     "output_type": "stream",
     "text": [
      "Checking whether there is an H2O instance running at http://localhost:54321..... not found.\n",
      "Attempting to start a local H2O server...\n",
      "  Java Version: openjdk version \"1.8.0_121\"; OpenJDK Runtime Environment (Zulu 8.20.0.5-macosx) (build 1.8.0_121-b15); OpenJDK 64-Bit Server VM (Zulu 8.20.0.5-macosx) (build 25.121-b15, mixed mode)\n",
      "  Starting server from /Users/jamespearce/miniconda3/envs/dl/lib/python3.6/site-packages/h2o/backend/bin/h2o.jar\n",
      "  Ice root: /var/folders/53/ywlydrqn0dn1x3lz3_c3j0jr0000gn/T/tmpvt381ng4\n",
      "  JVM stdout: /var/folders/53/ywlydrqn0dn1x3lz3_c3j0jr0000gn/T/tmpvt381ng4/h2o_jamespearce_started_from_python.out\n",
      "  JVM stderr: /var/folders/53/ywlydrqn0dn1x3lz3_c3j0jr0000gn/T/tmpvt381ng4/h2o_jamespearce_started_from_python.err\n",
      "  Server is running at http://127.0.0.1:54321\n",
      "Connecting to H2O server at http://127.0.0.1:54321... successful.\n"
     ]
    },
    {
     "data": {
      "text/html": [
       "<div style=\"overflow:auto\"><table style=\"width:50%\"><tr><td>H2O cluster uptime:</td>\n",
       "<td>02 secs</td></tr>\n",
       "<tr><td>H2O cluster timezone:</td>\n",
       "<td>Australia/Melbourne</td></tr>\n",
       "<tr><td>H2O data parsing timezone:</td>\n",
       "<td>UTC</td></tr>\n",
       "<tr><td>H2O cluster version:</td>\n",
       "<td>3.18.0.11</td></tr>\n",
       "<tr><td>H2O cluster version age:</td>\n",
       "<td>2 months and 5 days </td></tr>\n",
       "<tr><td>H2O cluster name:</td>\n",
       "<td>H2O_from_python_jamespearce_z6j5nv</td></tr>\n",
       "<tr><td>H2O cluster total nodes:</td>\n",
       "<td>1</td></tr>\n",
       "<tr><td>H2O cluster free memory:</td>\n",
       "<td>7.667 Gb</td></tr>\n",
       "<tr><td>H2O cluster total cores:</td>\n",
       "<td>4</td></tr>\n",
       "<tr><td>H2O cluster allowed cores:</td>\n",
       "<td>4</td></tr>\n",
       "<tr><td>H2O cluster status:</td>\n",
       "<td>accepting new members, healthy</td></tr>\n",
       "<tr><td>H2O connection url:</td>\n",
       "<td>http://127.0.0.1:54321</td></tr>\n",
       "<tr><td>H2O connection proxy:</td>\n",
       "<td>None</td></tr>\n",
       "<tr><td>H2O internal security:</td>\n",
       "<td>False</td></tr>\n",
       "<tr><td>H2O API Extensions:</td>\n",
       "<td>XGBoost, Algos, AutoML, Core V3, Core V4</td></tr>\n",
       "<tr><td>Python version:</td>\n",
       "<td>3.6.6 final</td></tr></table></div>"
      ],
      "text/plain": [
       "--------------------------  ----------------------------------------\n",
       "H2O cluster uptime:         02 secs\n",
       "H2O cluster timezone:       Australia/Melbourne\n",
       "H2O data parsing timezone:  UTC\n",
       "H2O cluster version:        3.18.0.11\n",
       "H2O cluster version age:    2 months and 5 days\n",
       "H2O cluster name:           H2O_from_python_jamespearce_z6j5nv\n",
       "H2O cluster total nodes:    1\n",
       "H2O cluster free memory:    7.667 Gb\n",
       "H2O cluster total cores:    4\n",
       "H2O cluster allowed cores:  4\n",
       "H2O cluster status:         accepting new members, healthy\n",
       "H2O connection url:         http://127.0.0.1:54321\n",
       "H2O connection proxy:\n",
       "H2O internal security:      False\n",
       "H2O API Extensions:         XGBoost, Algos, AutoML, Core V3, Core V4\n",
       "Python version:             3.6.6 final\n",
       "--------------------------  ----------------------------------------"
      ]
     },
     "metadata": {},
     "output_type": "display_data"
    }
   ],
   "source": [
    "h2o.init(min_mem_size=\"8G\")"
   ]
  },
  {
   "cell_type": "code",
   "execution_count": 8,
   "metadata": {},
   "outputs": [
    {
     "name": "stderr",
     "output_type": "stream",
     "text": [
      "/Users/jamespearce/miniconda3/envs/dl/lib/python3.6/site-packages/h2o/utils/shared_utils.py:170: FutureWarning: Method .as_matrix will be removed in a future version. Use .values instead.\n",
      "  data = _handle_python_lists(python_obj.as_matrix().tolist(), -1)[1]\n"
     ]
    },
    {
     "name": "stdout",
     "output_type": "stream",
     "text": [
      "Parse progress: |█████████████████████████████████████████████████████████| 100%\n"
     ]
    }
   ],
   "source": [
    "dogscats_h2o = h2o.H2OFrame(dogscats_df) "
   ]
  },
  {
   "cell_type": "code",
   "execution_count": 9,
   "metadata": {},
   "outputs": [],
   "source": [
    "Y = 'label'\n",
    "\n",
    "# For binary classification, response should be a factor\n",
    "dogscats_h2o[Y] = dogscats_h2o[Y].asfactor()\n"
   ]
  },
  {
   "cell_type": "code",
   "execution_count": 10,
   "metadata": {},
   "outputs": [],
   "source": [
    "# split into training and test\n",
    "train, test = dogscats_h2o.split_frame(ratios=[0.7])"
   ]
  },
  {
   "cell_type": "code",
   "execution_count": 11,
   "metadata": {},
   "outputs": [
    {
     "name": "stdout",
     "output_type": "stream",
     "text": [
      "AutoML progress: |████████████████████████████████████████████████████████| 100%\n",
      "Parse progress: |█████████████████████████████████████████████████████████| 100%\n"
     ]
    }
   ],
   "source": [
    "# Run AutoML for 30 seconds\n",
    "aml = H2OAutoML(max_runtime_secs = 300, # 5 minutes \n",
    "#                 exclude_algos=[\"GBM\", \"DRF\"], \n",
    "                seed=2055)\n",
    "aml.train(x = predictors, y = Y,\n",
    "          training_frame = train)"
   ]
  },
  {
   "cell_type": "code",
   "execution_count": 12,
   "metadata": {},
   "outputs": [
    {
     "data": {
      "text/html": [
       "<table>\n",
       "<thead>\n",
       "<tr><th>model_id                                             </th><th style=\"text-align: right;\">     auc</th><th style=\"text-align: right;\">  logloss</th></tr>\n",
       "</thead>\n",
       "<tbody>\n",
       "<tr><td>GLM_grid_0_AutoML_20180729_122517_model_0            </td><td style=\"text-align: right;\">0.999665</td><td style=\"text-align: right;\">0.0246101</td></tr>\n",
       "<tr><td>StackedEnsemble_BestOfFamily_0_AutoML_20180729_122517</td><td style=\"text-align: right;\">0.998865</td><td style=\"text-align: right;\">0.0286778</td></tr>\n",
       "<tr><td>StackedEnsemble_AllModels_0_AutoML_20180729_122517   </td><td style=\"text-align: right;\">0.998865</td><td style=\"text-align: right;\">0.0286778</td></tr>\n",
       "<tr><td>DRF_0_AutoML_20180729_122517                         </td><td style=\"text-align: right;\">0.996748</td><td style=\"text-align: right;\">0.12378  </td></tr>\n",
       "<tr><td>XRT_0_AutoML_20180729_122517                         </td><td style=\"text-align: right;\">0.995301</td><td style=\"text-align: right;\">0.154201 </td></tr>\n",
       "</tbody>\n",
       "</table>"
      ]
     },
     "metadata": {},
     "output_type": "display_data"
    },
    {
     "data": {
      "text/plain": []
     },
     "execution_count": 12,
     "metadata": {},
     "output_type": "execute_result"
    }
   ],
   "source": [
    "# view the leaderboard\n",
    "lb = aml.leaderboard\n",
    "lb"
   ]
  },
  {
   "cell_type": "code",
   "execution_count": 13,
   "metadata": {},
   "outputs": [
    {
     "name": "stdout",
     "output_type": "stream",
     "text": [
      "Model Details\n",
      "=============\n",
      "H2OGeneralizedLinearEstimator :  Generalized Linear Modeling\n",
      "Model Key:  GLM_grid_0_AutoML_20180729_122517_model_0\n",
      "\n",
      "\n",
      "ModelMetricsBinomialGLM: glm\n",
      "** Reported on train data. **\n",
      "\n",
      "MSE: 2.012316420997807e-05\n",
      "RMSE: 0.00448588499740888\n",
      "LogLoss: 0.0015918138373317576\n",
      "Null degrees of freedom: 1415\n",
      "Residual degrees of freedom: -633\n",
      "Null deviance: 1962.8120205379664\n",
      "Residual deviance: 4.508016787323542\n",
      "AIC: 4102.508016787324\n",
      "AUC: 1.0\n",
      "Gini: 1.0\n",
      "Confusion Matrix (Act/Pred) for max f1 @ threshold = 0.9651801839731984: \n"
     ]
    },
    {
     "data": {
      "text/html": [
       "<div style=\"overflow:auto\"><table style=\"width:50%\"><tr><td><b></b></td>\n",
       "<td><b>0</b></td>\n",
       "<td><b>1</b></td>\n",
       "<td><b>Error</b></td>\n",
       "<td><b>Rate</b></td></tr>\n",
       "<tr><td>0</td>\n",
       "<td>700.0</td>\n",
       "<td>0.0</td>\n",
       "<td>0.0</td>\n",
       "<td> (0.0/700.0)</td></tr>\n",
       "<tr><td>1</td>\n",
       "<td>0.0</td>\n",
       "<td>716.0</td>\n",
       "<td>0.0</td>\n",
       "<td> (0.0/716.0)</td></tr>\n",
       "<tr><td>Total</td>\n",
       "<td>700.0</td>\n",
       "<td>716.0</td>\n",
       "<td>0.0</td>\n",
       "<td> (0.0/1416.0)</td></tr></table></div>"
      ],
      "text/plain": [
       "       0    1    Error    Rate\n",
       "-----  ---  ---  -------  ------------\n",
       "0      700  0    0        (0.0/700.0)\n",
       "1      0    716  0        (0.0/716.0)\n",
       "Total  700  716  0        (0.0/1416.0)"
      ]
     },
     "metadata": {},
     "output_type": "display_data"
    },
    {
     "name": "stdout",
     "output_type": "stream",
     "text": [
      "Maximum Metrics: Maximum metrics at their respective thresholds\n",
      "\n"
     ]
    },
    {
     "data": {
      "text/html": [
       "<div style=\"overflow:auto\"><table style=\"width:50%\"><tr><td><b>metric</b></td>\n",
       "<td><b>threshold</b></td>\n",
       "<td><b>value</b></td>\n",
       "<td><b>idx</b></td></tr>\n",
       "<tr><td>max f1</td>\n",
       "<td>0.9651802</td>\n",
       "<td>1.0</td>\n",
       "<td>198.0</td></tr>\n",
       "<tr><td>max f2</td>\n",
       "<td>0.9651802</td>\n",
       "<td>1.0</td>\n",
       "<td>198.0</td></tr>\n",
       "<tr><td>max f0point5</td>\n",
       "<td>0.9651802</td>\n",
       "<td>1.0</td>\n",
       "<td>198.0</td></tr>\n",
       "<tr><td>max accuracy</td>\n",
       "<td>0.9651802</td>\n",
       "<td>1.0</td>\n",
       "<td>198.0</td></tr>\n",
       "<tr><td>max precision</td>\n",
       "<td>0.9999993</td>\n",
       "<td>1.0</td>\n",
       "<td>0.0</td></tr>\n",
       "<tr><td>max recall</td>\n",
       "<td>0.9651802</td>\n",
       "<td>1.0</td>\n",
       "<td>198.0</td></tr>\n",
       "<tr><td>max specificity</td>\n",
       "<td>0.9999993</td>\n",
       "<td>1.0</td>\n",
       "<td>0.0</td></tr>\n",
       "<tr><td>max absolute_mcc</td>\n",
       "<td>0.9651802</td>\n",
       "<td>1.0</td>\n",
       "<td>198.0</td></tr>\n",
       "<tr><td>max min_per_class_accuracy</td>\n",
       "<td>0.9651802</td>\n",
       "<td>1.0</td>\n",
       "<td>198.0</td></tr>\n",
       "<tr><td>max mean_per_class_accuracy</td>\n",
       "<td>0.9651802</td>\n",
       "<td>1.0</td>\n",
       "<td>198.0</td></tr></table></div>"
      ],
      "text/plain": [
       "metric                       threshold    value    idx\n",
       "---------------------------  -----------  -------  -----\n",
       "max f1                       0.96518      1        198\n",
       "max f2                       0.96518      1        198\n",
       "max f0point5                 0.96518      1        198\n",
       "max accuracy                 0.96518      1        198\n",
       "max precision                0.999999     1        0\n",
       "max recall                   0.96518      1        198\n",
       "max specificity              0.999999     1        0\n",
       "max absolute_mcc             0.96518      1        198\n",
       "max min_per_class_accuracy   0.96518      1        198\n",
       "max mean_per_class_accuracy  0.96518      1        198"
      ]
     },
     "metadata": {},
     "output_type": "display_data"
    },
    {
     "name": "stdout",
     "output_type": "stream",
     "text": [
      "Gains/Lift Table: Avg response rate: 50.56 %\n",
      "\n"
     ]
    },
    {
     "data": {
      "text/html": [
       "<div style=\"overflow:auto\"><table style=\"width:50%\"><tr><td><b></b></td>\n",
       "<td><b>group</b></td>\n",
       "<td><b>cumulative_data_fraction</b></td>\n",
       "<td><b>lower_threshold</b></td>\n",
       "<td><b>lift</b></td>\n",
       "<td><b>cumulative_lift</b></td>\n",
       "<td><b>response_rate</b></td>\n",
       "<td><b>cumulative_response_rate</b></td>\n",
       "<td><b>capture_rate</b></td>\n",
       "<td><b>cumulative_capture_rate</b></td>\n",
       "<td><b>gain</b></td>\n",
       "<td><b>cumulative_gain</b></td></tr>\n",
       "<tr><td></td>\n",
       "<td>1</td>\n",
       "<td>0.0105932</td>\n",
       "<td>0.9999996</td>\n",
       "<td>1.9776536</td>\n",
       "<td>1.9776536</td>\n",
       "<td>1.0</td>\n",
       "<td>1.0</td>\n",
       "<td>0.0209497</td>\n",
       "<td>0.0209497</td>\n",
       "<td>97.7653631</td>\n",
       "<td>97.7653631</td></tr>\n",
       "<tr><td></td>\n",
       "<td>2</td>\n",
       "<td>0.0204802</td>\n",
       "<td>0.9999991</td>\n",
       "<td>1.9776536</td>\n",
       "<td>1.9776536</td>\n",
       "<td>1.0</td>\n",
       "<td>1.0</td>\n",
       "<td>0.0195531</td>\n",
       "<td>0.0405028</td>\n",
       "<td>97.7653631</td>\n",
       "<td>97.7653631</td></tr>\n",
       "<tr><td></td>\n",
       "<td>3</td>\n",
       "<td>0.0303672</td>\n",
       "<td>0.9999984</td>\n",
       "<td>1.9776536</td>\n",
       "<td>1.9776536</td>\n",
       "<td>1.0</td>\n",
       "<td>1.0</td>\n",
       "<td>0.0195531</td>\n",
       "<td>0.0600559</td>\n",
       "<td>97.7653631</td>\n",
       "<td>97.7653631</td></tr>\n",
       "<tr><td></td>\n",
       "<td>4</td>\n",
       "<td>0.0402542</td>\n",
       "<td>0.9999978</td>\n",
       "<td>1.9776536</td>\n",
       "<td>1.9776536</td>\n",
       "<td>1.0</td>\n",
       "<td>1.0</td>\n",
       "<td>0.0195531</td>\n",
       "<td>0.0796089</td>\n",
       "<td>97.7653631</td>\n",
       "<td>97.7653631</td></tr>\n",
       "<tr><td></td>\n",
       "<td>5</td>\n",
       "<td>0.0501412</td>\n",
       "<td>0.9999971</td>\n",
       "<td>1.9776536</td>\n",
       "<td>1.9776536</td>\n",
       "<td>1.0</td>\n",
       "<td>1.0</td>\n",
       "<td>0.0195531</td>\n",
       "<td>0.0991620</td>\n",
       "<td>97.7653631</td>\n",
       "<td>97.7653631</td></tr>\n",
       "<tr><td></td>\n",
       "<td>6</td>\n",
       "<td>0.1002825</td>\n",
       "<td>0.9999918</td>\n",
       "<td>1.9776536</td>\n",
       "<td>1.9776536</td>\n",
       "<td>1.0</td>\n",
       "<td>1.0</td>\n",
       "<td>0.0991620</td>\n",
       "<td>0.1983240</td>\n",
       "<td>97.7653631</td>\n",
       "<td>97.7653631</td></tr>\n",
       "<tr><td></td>\n",
       "<td>7</td>\n",
       "<td>0.1504237</td>\n",
       "<td>0.9999787</td>\n",
       "<td>1.9776536</td>\n",
       "<td>1.9776536</td>\n",
       "<td>1.0</td>\n",
       "<td>1.0</td>\n",
       "<td>0.0991620</td>\n",
       "<td>0.2974860</td>\n",
       "<td>97.7653631</td>\n",
       "<td>97.7653631</td></tr>\n",
       "<tr><td></td>\n",
       "<td>8</td>\n",
       "<td>0.2005650</td>\n",
       "<td>0.9999587</td>\n",
       "<td>1.9776536</td>\n",
       "<td>1.9776536</td>\n",
       "<td>1.0</td>\n",
       "<td>1.0</td>\n",
       "<td>0.0991620</td>\n",
       "<td>0.3966480</td>\n",
       "<td>97.7653631</td>\n",
       "<td>97.7653631</td></tr>\n",
       "<tr><td></td>\n",
       "<td>9</td>\n",
       "<td>0.3001412</td>\n",
       "<td>0.9997838</td>\n",
       "<td>1.9776536</td>\n",
       "<td>1.9776536</td>\n",
       "<td>1.0</td>\n",
       "<td>1.0</td>\n",
       "<td>0.1969274</td>\n",
       "<td>0.5935754</td>\n",
       "<td>97.7653631</td>\n",
       "<td>97.7653631</td></tr>\n",
       "<tr><td></td>\n",
       "<td>10</td>\n",
       "<td>0.4004237</td>\n",
       "<td>0.9986273</td>\n",
       "<td>1.9776536</td>\n",
       "<td>1.9776536</td>\n",
       "<td>1.0</td>\n",
       "<td>1.0</td>\n",
       "<td>0.1983240</td>\n",
       "<td>0.7918994</td>\n",
       "<td>97.7653631</td>\n",
       "<td>97.7653631</td></tr>\n",
       "<tr><td></td>\n",
       "<td>11</td>\n",
       "<td>0.5</td>\n",
       "<td>0.9794403</td>\n",
       "<td>1.9776536</td>\n",
       "<td>1.9776536</td>\n",
       "<td>1.0</td>\n",
       "<td>1.0</td>\n",
       "<td>0.1969274</td>\n",
       "<td>0.9888268</td>\n",
       "<td>97.7653631</td>\n",
       "<td>97.7653631</td></tr>\n",
       "<tr><td></td>\n",
       "<td>12</td>\n",
       "<td>0.6002825</td>\n",
       "<td>0.0016748</td>\n",
       "<td>0.1114171</td>\n",
       "<td>1.6658824</td>\n",
       "<td>0.0563380</td>\n",
       "<td>0.8423529</td>\n",
       "<td>0.0111732</td>\n",
       "<td>1.0</td>\n",
       "<td>-88.8582894</td>\n",
       "<td>66.5882353</td></tr>\n",
       "<tr><td></td>\n",
       "<td>13</td>\n",
       "<td>0.6998588</td>\n",
       "<td>0.0002644</td>\n",
       "<td>0.0</td>\n",
       "<td>1.4288597</td>\n",
       "<td>0.0</td>\n",
       "<td>0.7225025</td>\n",
       "<td>0.0</td>\n",
       "<td>1.0</td>\n",
       "<td>-100.0</td>\n",
       "<td>42.8859738</td></tr>\n",
       "<tr><td></td>\n",
       "<td>14</td>\n",
       "<td>0.8001412</td>\n",
       "<td>0.0000724</td>\n",
       "<td>0.0</td>\n",
       "<td>1.2497793</td>\n",
       "<td>0.0</td>\n",
       "<td>0.6319506</td>\n",
       "<td>0.0</td>\n",
       "<td>1.0</td>\n",
       "<td>-100.0</td>\n",
       "<td>24.9779347</td></tr>\n",
       "<tr><td></td>\n",
       "<td>15</td>\n",
       "<td>0.8997175</td>\n",
       "<td>0.0000138</td>\n",
       "<td>0.0</td>\n",
       "<td>1.1114600</td>\n",
       "<td>0.0</td>\n",
       "<td>0.5620094</td>\n",
       "<td>0.0</td>\n",
       "<td>1.0</td>\n",
       "<td>-100.0</td>\n",
       "<td>11.1459969</td></tr>\n",
       "<tr><td></td>\n",
       "<td>16</td>\n",
       "<td>1.0</td>\n",
       "<td>0.0000000</td>\n",
       "<td>0.0</td>\n",
       "<td>1.0</td>\n",
       "<td>0.0</td>\n",
       "<td>0.5056497</td>\n",
       "<td>0.0</td>\n",
       "<td>1.0</td>\n",
       "<td>-100.0</td>\n",
       "<td>0.0</td></tr></table></div>"
      ],
      "text/plain": [
       "    group    cumulative_data_fraction    lower_threshold    lift      cumulative_lift    response_rate    cumulative_response_rate    capture_rate    cumulative_capture_rate    gain      cumulative_gain\n",
       "--  -------  --------------------------  -----------------  --------  -----------------  ---------------  --------------------------  --------------  -------------------------  --------  -----------------\n",
       "    1        0.0105932                   1                  1.97765   1.97765            1                1                           0.0209497       0.0209497                  97.7654   97.7654\n",
       "    2        0.0204802                   0.999999           1.97765   1.97765            1                1                           0.0195531       0.0405028                  97.7654   97.7654\n",
       "    3        0.0303672                   0.999998           1.97765   1.97765            1                1                           0.0195531       0.0600559                  97.7654   97.7654\n",
       "    4        0.0402542                   0.999998           1.97765   1.97765            1                1                           0.0195531       0.0796089                  97.7654   97.7654\n",
       "    5        0.0501412                   0.999997           1.97765   1.97765            1                1                           0.0195531       0.099162                   97.7654   97.7654\n",
       "    6        0.100282                    0.999992           1.97765   1.97765            1                1                           0.099162        0.198324                   97.7654   97.7654\n",
       "    7        0.150424                    0.999979           1.97765   1.97765            1                1                           0.099162        0.297486                   97.7654   97.7654\n",
       "    8        0.200565                    0.999959           1.97765   1.97765            1                1                           0.099162        0.396648                   97.7654   97.7654\n",
       "    9        0.300141                    0.999784           1.97765   1.97765            1                1                           0.196927        0.593575                   97.7654   97.7654\n",
       "    10       0.400424                    0.998627           1.97765   1.97765            1                1                           0.198324        0.791899                   97.7654   97.7654\n",
       "    11       0.5                         0.97944            1.97765   1.97765            1                1                           0.196927        0.988827                   97.7654   97.7654\n",
       "    12       0.600282                    0.00167475         0.111417  1.66588            0.056338         0.842353                    0.0111732       1                          -88.8583  66.5882\n",
       "    13       0.699859                    0.000264385        0         1.42886            0                0.722503                    0               1                          -100      42.886\n",
       "    14       0.800141                    7.23598e-05        0         1.24978            0                0.631951                    0               1                          -100      24.9779\n",
       "    15       0.899718                    1.38469e-05        0         1.11146            0                0.562009                    0               1                          -100      11.146\n",
       "    16       1                           1.64072e-08        0         1                  0                0.50565                     0               1                          -100      0"
      ]
     },
     "metadata": {},
     "output_type": "display_data"
    },
    {
     "name": "stdout",
     "output_type": "stream",
     "text": [
      "\n",
      "\n",
      "ModelMetricsBinomialGLM: glm\n",
      "** Reported on validation data. **\n",
      "\n",
      "MSE: 0.00941308463076204\n",
      "RMSE: 0.09702105251316355\n",
      "LogLoss: 0.03552317675800337\n",
      "Null degrees of freedom: 339\n",
      "Residual degrees of freedom: -1709\n",
      "Null deviance: 471.83549244946005\n",
      "Residual deviance: 24.155760195442298\n",
      "AIC: 4122.155760195442\n",
      "AUC: 0.9996875\n",
      "Gini: 0.9993749999999999\n",
      "Confusion Matrix (Act/Pred) for max f1 @ threshold = 0.5894161083679071: \n"
     ]
    },
    {
     "data": {
      "text/html": [
       "<div style=\"overflow:auto\"><table style=\"width:50%\"><tr><td><b></b></td>\n",
       "<td><b>0</b></td>\n",
       "<td><b>1</b></td>\n",
       "<td><b>Error</b></td>\n",
       "<td><b>Rate</b></td></tr>\n",
       "<tr><td>0</td>\n",
       "<td>177.0</td>\n",
       "<td>3.0</td>\n",
       "<td>0.0167</td>\n",
       "<td> (3.0/180.0)</td></tr>\n",
       "<tr><td>1</td>\n",
       "<td>0.0</td>\n",
       "<td>160.0</td>\n",
       "<td>0.0</td>\n",
       "<td> (0.0/160.0)</td></tr>\n",
       "<tr><td>Total</td>\n",
       "<td>177.0</td>\n",
       "<td>163.0</td>\n",
       "<td>0.0088</td>\n",
       "<td> (3.0/340.0)</td></tr></table></div>"
      ],
      "text/plain": [
       "       0    1    Error    Rate\n",
       "-----  ---  ---  -------  -----------\n",
       "0      177  3    0.0167   (3.0/180.0)\n",
       "1      0    160  0        (0.0/160.0)\n",
       "Total  177  163  0.0088   (3.0/340.0)"
      ]
     },
     "metadata": {},
     "output_type": "display_data"
    },
    {
     "name": "stdout",
     "output_type": "stream",
     "text": [
      "Maximum Metrics: Maximum metrics at their respective thresholds\n",
      "\n"
     ]
    },
    {
     "data": {
      "text/html": [
       "<div style=\"overflow:auto\"><table style=\"width:50%\"><tr><td><b>metric</b></td>\n",
       "<td><b>threshold</b></td>\n",
       "<td><b>value</b></td>\n",
       "<td><b>idx</b></td></tr>\n",
       "<tr><td>max f1</td>\n",
       "<td>0.5894161</td>\n",
       "<td>0.9907121</td>\n",
       "<td>159.0</td></tr>\n",
       "<tr><td>max f2</td>\n",
       "<td>0.5894161</td>\n",
       "<td>0.9962640</td>\n",
       "<td>159.0</td></tr>\n",
       "<tr><td>max f0point5</td>\n",
       "<td>0.9796572</td>\n",
       "<td>0.9948980</td>\n",
       "<td>152.0</td></tr>\n",
       "<tr><td>max accuracy</td>\n",
       "<td>0.9167864</td>\n",
       "<td>0.9911765</td>\n",
       "<td>157.0</td></tr>\n",
       "<tr><td>max precision</td>\n",
       "<td>0.9999999</td>\n",
       "<td>1.0</td>\n",
       "<td>0.0</td></tr>\n",
       "<tr><td>max recall</td>\n",
       "<td>0.5894161</td>\n",
       "<td>1.0</td>\n",
       "<td>159.0</td></tr>\n",
       "<tr><td>max specificity</td>\n",
       "<td>0.9999999</td>\n",
       "<td>1.0</td>\n",
       "<td>0.0</td></tr>\n",
       "<tr><td>max absolute_mcc</td>\n",
       "<td>0.5894161</td>\n",
       "<td>0.9824638</td>\n",
       "<td>159.0</td></tr>\n",
       "<tr><td>max min_per_class_accuracy</td>\n",
       "<td>0.9167864</td>\n",
       "<td>0.9888889</td>\n",
       "<td>157.0</td></tr>\n",
       "<tr><td>max mean_per_class_accuracy</td>\n",
       "<td>0.5894161</td>\n",
       "<td>0.9916667</td>\n",
       "<td>159.0</td></tr></table></div>"
      ],
      "text/plain": [
       "metric                       threshold    value     idx\n",
       "---------------------------  -----------  --------  -----\n",
       "max f1                       0.589416     0.990712  159\n",
       "max f2                       0.589416     0.996264  159\n",
       "max f0point5                 0.979657     0.994898  152\n",
       "max accuracy                 0.916786     0.991176  157\n",
       "max precision                1            1         0\n",
       "max recall                   0.589416     1         159\n",
       "max specificity              1            1         0\n",
       "max absolute_mcc             0.589416     0.982464  159\n",
       "max min_per_class_accuracy   0.916786     0.988889  157\n",
       "max mean_per_class_accuracy  0.589416     0.991667  159"
      ]
     },
     "metadata": {},
     "output_type": "display_data"
    },
    {
     "name": "stdout",
     "output_type": "stream",
     "text": [
      "Gains/Lift Table: Avg response rate: 47.06 %\n",
      "\n"
     ]
    },
    {
     "data": {
      "text/html": [
       "<div style=\"overflow:auto\"><table style=\"width:50%\"><tr><td><b></b></td>\n",
       "<td><b>group</b></td>\n",
       "<td><b>cumulative_data_fraction</b></td>\n",
       "<td><b>lower_threshold</b></td>\n",
       "<td><b>lift</b></td>\n",
       "<td><b>cumulative_lift</b></td>\n",
       "<td><b>response_rate</b></td>\n",
       "<td><b>cumulative_response_rate</b></td>\n",
       "<td><b>capture_rate</b></td>\n",
       "<td><b>cumulative_capture_rate</b></td>\n",
       "<td><b>gain</b></td>\n",
       "<td><b>cumulative_gain</b></td></tr>\n",
       "<tr><td></td>\n",
       "<td>1</td>\n",
       "<td>0.0117647</td>\n",
       "<td>0.9999995</td>\n",
       "<td>2.125</td>\n",
       "<td>2.125</td>\n",
       "<td>1.0</td>\n",
       "<td>1.0</td>\n",
       "<td>0.025</td>\n",
       "<td>0.025</td>\n",
       "<td>112.5</td>\n",
       "<td>112.5</td></tr>\n",
       "<tr><td></td>\n",
       "<td>2</td>\n",
       "<td>0.0205882</td>\n",
       "<td>0.9999990</td>\n",
       "<td>2.125</td>\n",
       "<td>2.125</td>\n",
       "<td>1.0</td>\n",
       "<td>1.0</td>\n",
       "<td>0.01875</td>\n",
       "<td>0.04375</td>\n",
       "<td>112.5</td>\n",
       "<td>112.5</td></tr>\n",
       "<tr><td></td>\n",
       "<td>3</td>\n",
       "<td>0.0323529</td>\n",
       "<td>0.9999986</td>\n",
       "<td>2.125</td>\n",
       "<td>2.125</td>\n",
       "<td>1.0</td>\n",
       "<td>1.0</td>\n",
       "<td>0.025</td>\n",
       "<td>0.06875</td>\n",
       "<td>112.5</td>\n",
       "<td>112.5</td></tr>\n",
       "<tr><td></td>\n",
       "<td>4</td>\n",
       "<td>0.0411765</td>\n",
       "<td>0.9999978</td>\n",
       "<td>2.125</td>\n",
       "<td>2.125</td>\n",
       "<td>1.0</td>\n",
       "<td>1.0</td>\n",
       "<td>0.01875</td>\n",
       "<td>0.0875</td>\n",
       "<td>112.5</td>\n",
       "<td>112.5</td></tr>\n",
       "<tr><td></td>\n",
       "<td>5</td>\n",
       "<td>0.05</td>\n",
       "<td>0.9999969</td>\n",
       "<td>2.125</td>\n",
       "<td>2.125</td>\n",
       "<td>1.0</td>\n",
       "<td>1.0</td>\n",
       "<td>0.01875</td>\n",
       "<td>0.10625</td>\n",
       "<td>112.5</td>\n",
       "<td>112.5</td></tr>\n",
       "<tr><td></td>\n",
       "<td>6</td>\n",
       "<td>0.1</td>\n",
       "<td>0.9999881</td>\n",
       "<td>2.125</td>\n",
       "<td>2.125</td>\n",
       "<td>1.0</td>\n",
       "<td>1.0</td>\n",
       "<td>0.10625</td>\n",
       "<td>0.2125</td>\n",
       "<td>112.5</td>\n",
       "<td>112.5</td></tr>\n",
       "<tr><td></td>\n",
       "<td>7</td>\n",
       "<td>0.15</td>\n",
       "<td>0.9999709</td>\n",
       "<td>2.125</td>\n",
       "<td>2.125</td>\n",
       "<td>1.0</td>\n",
       "<td>1.0</td>\n",
       "<td>0.10625</td>\n",
       "<td>0.31875</td>\n",
       "<td>112.5</td>\n",
       "<td>112.5</td></tr>\n",
       "<tr><td></td>\n",
       "<td>8</td>\n",
       "<td>0.2</td>\n",
       "<td>0.9999542</td>\n",
       "<td>2.125</td>\n",
       "<td>2.125</td>\n",
       "<td>1.0</td>\n",
       "<td>1.0</td>\n",
       "<td>0.10625</td>\n",
       "<td>0.425</td>\n",
       "<td>112.5</td>\n",
       "<td>112.5</td></tr>\n",
       "<tr><td></td>\n",
       "<td>9</td>\n",
       "<td>0.3</td>\n",
       "<td>0.9997831</td>\n",
       "<td>2.125</td>\n",
       "<td>2.125</td>\n",
       "<td>1.0</td>\n",
       "<td>1.0</td>\n",
       "<td>0.2125</td>\n",
       "<td>0.6375</td>\n",
       "<td>112.5</td>\n",
       "<td>112.5</td></tr>\n",
       "<tr><td></td>\n",
       "<td>10</td>\n",
       "<td>0.4</td>\n",
       "<td>0.9981768</td>\n",
       "<td>2.125</td>\n",
       "<td>2.125</td>\n",
       "<td>1.0</td>\n",
       "<td>1.0</td>\n",
       "<td>0.2125</td>\n",
       "<td>0.85</td>\n",
       "<td>112.5</td>\n",
       "<td>112.5</td></tr>\n",
       "<tr><td></td>\n",
       "<td>11</td>\n",
       "<td>0.5</td>\n",
       "<td>0.0906311</td>\n",
       "<td>1.5000000</td>\n",
       "<td>2.0</td>\n",
       "<td>0.7058824</td>\n",
       "<td>0.9411765</td>\n",
       "<td>0.15</td>\n",
       "<td>1.0</td>\n",
       "<td>50.0000000</td>\n",
       "<td>100.0</td></tr>\n",
       "<tr><td></td>\n",
       "<td>12</td>\n",
       "<td>0.6</td>\n",
       "<td>0.0015007</td>\n",
       "<td>0.0</td>\n",
       "<td>1.6666667</td>\n",
       "<td>0.0</td>\n",
       "<td>0.7843137</td>\n",
       "<td>0.0</td>\n",
       "<td>1.0</td>\n",
       "<td>-100.0</td>\n",
       "<td>66.6666667</td></tr>\n",
       "<tr><td></td>\n",
       "<td>13</td>\n",
       "<td>0.7</td>\n",
       "<td>0.0002908</td>\n",
       "<td>0.0</td>\n",
       "<td>1.4285714</td>\n",
       "<td>0.0</td>\n",
       "<td>0.6722689</td>\n",
       "<td>0.0</td>\n",
       "<td>1.0</td>\n",
       "<td>-100.0</td>\n",
       "<td>42.8571429</td></tr>\n",
       "<tr><td></td>\n",
       "<td>14</td>\n",
       "<td>0.8</td>\n",
       "<td>0.0000686</td>\n",
       "<td>0.0</td>\n",
       "<td>1.25</td>\n",
       "<td>0.0</td>\n",
       "<td>0.5882353</td>\n",
       "<td>0.0</td>\n",
       "<td>1.0</td>\n",
       "<td>-100.0</td>\n",
       "<td>25.0</td></tr>\n",
       "<tr><td></td>\n",
       "<td>15</td>\n",
       "<td>0.9</td>\n",
       "<td>0.0000145</td>\n",
       "<td>0.0</td>\n",
       "<td>1.1111111</td>\n",
       "<td>0.0</td>\n",
       "<td>0.5228758</td>\n",
       "<td>0.0</td>\n",
       "<td>1.0</td>\n",
       "<td>-100.0</td>\n",
       "<td>11.1111111</td></tr>\n",
       "<tr><td></td>\n",
       "<td>16</td>\n",
       "<td>1.0</td>\n",
       "<td>0.0000000</td>\n",
       "<td>0.0</td>\n",
       "<td>1.0</td>\n",
       "<td>0.0</td>\n",
       "<td>0.4705882</td>\n",
       "<td>0.0</td>\n",
       "<td>1.0</td>\n",
       "<td>-100.0</td>\n",
       "<td>0.0</td></tr></table></div>"
      ],
      "text/plain": [
       "    group    cumulative_data_fraction    lower_threshold    lift    cumulative_lift    response_rate    cumulative_response_rate    capture_rate    cumulative_capture_rate    gain    cumulative_gain\n",
       "--  -------  --------------------------  -----------------  ------  -----------------  ---------------  --------------------------  --------------  -------------------------  ------  -----------------\n",
       "    1        0.0117647                   1                  2.125   2.125              1                1                           0.025           0.025                      112.5   112.5\n",
       "    2        0.0205882                   0.999999           2.125   2.125              1                1                           0.01875         0.04375                    112.5   112.5\n",
       "    3        0.0323529                   0.999999           2.125   2.125              1                1                           0.025           0.06875                    112.5   112.5\n",
       "    4        0.0411765                   0.999998           2.125   2.125              1                1                           0.01875         0.0875                     112.5   112.5\n",
       "    5        0.05                        0.999997           2.125   2.125              1                1                           0.01875         0.10625                    112.5   112.5\n",
       "    6        0.1                         0.999988           2.125   2.125              1                1                           0.10625         0.2125                     112.5   112.5\n",
       "    7        0.15                        0.999971           2.125   2.125              1                1                           0.10625         0.31875                    112.5   112.5\n",
       "    8        0.2                         0.999954           2.125   2.125              1                1                           0.10625         0.425                      112.5   112.5\n",
       "    9        0.3                         0.999783           2.125   2.125              1                1                           0.2125          0.6375                     112.5   112.5\n",
       "    10       0.4                         0.998177           2.125   2.125              1                1                           0.2125          0.85                       112.5   112.5\n",
       "    11       0.5                         0.0906311          1.5     2                  0.705882         0.941176                    0.15            1                          50      100\n",
       "    12       0.6                         0.00150074         0       1.66667            0                0.784314                    0               1                          -100    66.6667\n",
       "    13       0.7                         0.000290795        0       1.42857            0                0.672269                    0               1                          -100    42.8571\n",
       "    14       0.8                         6.86097e-05        0       1.25               0                0.588235                    0               1                          -100    25\n",
       "    15       0.9                         1.44613e-05        0       1.11111            0                0.522876                    0               1                          -100    11.1111\n",
       "    16       1                           3.38907e-09        0       1                  0                0.470588                    0               1                          -100    0"
      ]
     },
     "metadata": {},
     "output_type": "display_data"
    },
    {
     "name": "stdout",
     "output_type": "stream",
     "text": [
      "\n",
      "\n",
      "ModelMetricsBinomialGLM: glm\n",
      "** Reported on cross-validation data. **\n",
      "\n",
      "MSE: 0.007189860001725605\n",
      "RMSE: 0.0847930421775608\n",
      "LogLoss: 0.02461010074668419\n",
      "Null degrees of freedom: 1415\n",
      "Residual degrees of freedom: -633\n",
      "Null deviance: 1965.5465217324713\n",
      "Residual deviance: 69.69580531460963\n",
      "AIC: 4167.69580531461\n",
      "AUC: 0.9996648044692736\n",
      "Gini: 0.9993296089385473\n",
      "Confusion Matrix (Act/Pred) for max f1 @ threshold = 0.3113836934783805: \n"
     ]
    },
    {
     "data": {
      "text/html": [
       "<div style=\"overflow:auto\"><table style=\"width:50%\"><tr><td><b></b></td>\n",
       "<td><b>0</b></td>\n",
       "<td><b>1</b></td>\n",
       "<td><b>Error</b></td>\n",
       "<td><b>Rate</b></td></tr>\n",
       "<tr><td>0</td>\n",
       "<td>691.0</td>\n",
       "<td>9.0</td>\n",
       "<td>0.0129</td>\n",
       "<td> (9.0/700.0)</td></tr>\n",
       "<tr><td>1</td>\n",
       "<td>2.0</td>\n",
       "<td>714.0</td>\n",
       "<td>0.0028</td>\n",
       "<td> (2.0/716.0)</td></tr>\n",
       "<tr><td>Total</td>\n",
       "<td>693.0</td>\n",
       "<td>723.0</td>\n",
       "<td>0.0078</td>\n",
       "<td> (11.0/1416.0)</td></tr></table></div>"
      ],
      "text/plain": [
       "       0    1    Error    Rate\n",
       "-----  ---  ---  -------  -------------\n",
       "0      691  9    0.0129   (9.0/700.0)\n",
       "1      2    714  0.0028   (2.0/716.0)\n",
       "Total  693  723  0.0078   (11.0/1416.0)"
      ]
     },
     "metadata": {},
     "output_type": "display_data"
    },
    {
     "name": "stdout",
     "output_type": "stream",
     "text": [
      "Maximum Metrics: Maximum metrics at their respective thresholds\n",
      "\n"
     ]
    },
    {
     "data": {
      "text/html": [
       "<div style=\"overflow:auto\"><table style=\"width:50%\"><tr><td><b>metric</b></td>\n",
       "<td><b>threshold</b></td>\n",
       "<td><b>value</b></td>\n",
       "<td><b>idx</b></td></tr>\n",
       "<tr><td>max f1</td>\n",
       "<td>0.3113837</td>\n",
       "<td>0.9923558</td>\n",
       "<td>204.0</td></tr>\n",
       "<tr><td>max f2</td>\n",
       "<td>0.2869247</td>\n",
       "<td>0.9955444</td>\n",
       "<td>208.0</td></tr>\n",
       "<tr><td>max f0point5</td>\n",
       "<td>0.8763047</td>\n",
       "<td>0.9931507</td>\n",
       "<td>178.0</td></tr>\n",
       "<tr><td>max accuracy</td>\n",
       "<td>0.3113837</td>\n",
       "<td>0.9922316</td>\n",
       "<td>204.0</td></tr>\n",
       "<tr><td>max precision</td>\n",
       "<td>0.9999974</td>\n",
       "<td>1.0</td>\n",
       "<td>0.0</td></tr>\n",
       "<tr><td>max recall</td>\n",
       "<td>0.1891202</td>\n",
       "<td>1.0</td>\n",
       "<td>215.0</td></tr>\n",
       "<tr><td>max specificity</td>\n",
       "<td>0.9999974</td>\n",
       "<td>1.0</td>\n",
       "<td>0.0</td></tr>\n",
       "<tr><td>max absolute_mcc</td>\n",
       "<td>0.3113837</td>\n",
       "<td>0.9845077</td>\n",
       "<td>204.0</td></tr>\n",
       "<tr><td>max min_per_class_accuracy</td>\n",
       "<td>0.4576447</td>\n",
       "<td>0.9888268</td>\n",
       "<td>196.0</td></tr>\n",
       "<tr><td>max mean_per_class_accuracy</td>\n",
       "<td>0.3113837</td>\n",
       "<td>0.9921748</td>\n",
       "<td>204.0</td></tr></table></div>"
      ],
      "text/plain": [
       "metric                       threshold    value     idx\n",
       "---------------------------  -----------  --------  -----\n",
       "max f1                       0.311384     0.992356  204\n",
       "max f2                       0.286925     0.995544  208\n",
       "max f0point5                 0.876305     0.993151  178\n",
       "max accuracy                 0.311384     0.992232  204\n",
       "max precision                0.999997     1         0\n",
       "max recall                   0.18912      1         215\n",
       "max specificity              0.999997     1         0\n",
       "max absolute_mcc             0.311384     0.984508  204\n",
       "max min_per_class_accuracy   0.457645     0.988827  196\n",
       "max mean_per_class_accuracy  0.311384     0.992175  204"
      ]
     },
     "metadata": {},
     "output_type": "display_data"
    },
    {
     "name": "stdout",
     "output_type": "stream",
     "text": [
      "Gains/Lift Table: Avg response rate: 50.56 %\n",
      "\n"
     ]
    },
    {
     "data": {
      "text/html": [
       "<div style=\"overflow:auto\"><table style=\"width:50%\"><tr><td><b></b></td>\n",
       "<td><b>group</b></td>\n",
       "<td><b>cumulative_data_fraction</b></td>\n",
       "<td><b>lower_threshold</b></td>\n",
       "<td><b>lift</b></td>\n",
       "<td><b>cumulative_lift</b></td>\n",
       "<td><b>response_rate</b></td>\n",
       "<td><b>cumulative_response_rate</b></td>\n",
       "<td><b>capture_rate</b></td>\n",
       "<td><b>cumulative_capture_rate</b></td>\n",
       "<td><b>gain</b></td>\n",
       "<td><b>cumulative_gain</b></td></tr>\n",
       "<tr><td></td>\n",
       "<td>1</td>\n",
       "<td>0.0105932</td>\n",
       "<td>0.9999992</td>\n",
       "<td>1.9776536</td>\n",
       "<td>1.9776536</td>\n",
       "<td>1.0</td>\n",
       "<td>1.0</td>\n",
       "<td>0.0209497</td>\n",
       "<td>0.0209497</td>\n",
       "<td>97.7653631</td>\n",
       "<td>97.7653631</td></tr>\n",
       "<tr><td></td>\n",
       "<td>2</td>\n",
       "<td>0.0204802</td>\n",
       "<td>0.9999983</td>\n",
       "<td>1.9776536</td>\n",
       "<td>1.9776536</td>\n",
       "<td>1.0</td>\n",
       "<td>1.0</td>\n",
       "<td>0.0195531</td>\n",
       "<td>0.0405028</td>\n",
       "<td>97.7653631</td>\n",
       "<td>97.7653631</td></tr>\n",
       "<tr><td></td>\n",
       "<td>3</td>\n",
       "<td>0.0303672</td>\n",
       "<td>0.9999971</td>\n",
       "<td>1.9776536</td>\n",
       "<td>1.9776536</td>\n",
       "<td>1.0</td>\n",
       "<td>1.0</td>\n",
       "<td>0.0195531</td>\n",
       "<td>0.0600559</td>\n",
       "<td>97.7653631</td>\n",
       "<td>97.7653631</td></tr>\n",
       "<tr><td></td>\n",
       "<td>4</td>\n",
       "<td>0.0402542</td>\n",
       "<td>0.9999962</td>\n",
       "<td>1.9776536</td>\n",
       "<td>1.9776536</td>\n",
       "<td>1.0</td>\n",
       "<td>1.0</td>\n",
       "<td>0.0195531</td>\n",
       "<td>0.0796089</td>\n",
       "<td>97.7653631</td>\n",
       "<td>97.7653631</td></tr>\n",
       "<tr><td></td>\n",
       "<td>5</td>\n",
       "<td>0.0501412</td>\n",
       "<td>0.9999954</td>\n",
       "<td>1.9776536</td>\n",
       "<td>1.9776536</td>\n",
       "<td>1.0</td>\n",
       "<td>1.0</td>\n",
       "<td>0.0195531</td>\n",
       "<td>0.0991620</td>\n",
       "<td>97.7653631</td>\n",
       "<td>97.7653631</td></tr>\n",
       "<tr><td></td>\n",
       "<td>6</td>\n",
       "<td>0.1002825</td>\n",
       "<td>0.9999860</td>\n",
       "<td>1.9776536</td>\n",
       "<td>1.9776536</td>\n",
       "<td>1.0</td>\n",
       "<td>1.0</td>\n",
       "<td>0.0991620</td>\n",
       "<td>0.1983240</td>\n",
       "<td>97.7653631</td>\n",
       "<td>97.7653631</td></tr>\n",
       "<tr><td></td>\n",
       "<td>7</td>\n",
       "<td>0.1504237</td>\n",
       "<td>0.9999674</td>\n",
       "<td>1.9776536</td>\n",
       "<td>1.9776536</td>\n",
       "<td>1.0</td>\n",
       "<td>1.0</td>\n",
       "<td>0.0991620</td>\n",
       "<td>0.2974860</td>\n",
       "<td>97.7653631</td>\n",
       "<td>97.7653631</td></tr>\n",
       "<tr><td></td>\n",
       "<td>8</td>\n",
       "<td>0.2005650</td>\n",
       "<td>0.9999315</td>\n",
       "<td>1.9776536</td>\n",
       "<td>1.9776536</td>\n",
       "<td>1.0</td>\n",
       "<td>1.0</td>\n",
       "<td>0.0991620</td>\n",
       "<td>0.3966480</td>\n",
       "<td>97.7653631</td>\n",
       "<td>97.7653631</td></tr>\n",
       "<tr><td></td>\n",
       "<td>9</td>\n",
       "<td>0.3001412</td>\n",
       "<td>0.9996899</td>\n",
       "<td>1.9776536</td>\n",
       "<td>1.9776536</td>\n",
       "<td>1.0</td>\n",
       "<td>1.0</td>\n",
       "<td>0.1969274</td>\n",
       "<td>0.5935754</td>\n",
       "<td>97.7653631</td>\n",
       "<td>97.7653631</td></tr>\n",
       "<tr><td></td>\n",
       "<td>10</td>\n",
       "<td>0.4004237</td>\n",
       "<td>0.9977359</td>\n",
       "<td>1.9776536</td>\n",
       "<td>1.9776536</td>\n",
       "<td>1.0</td>\n",
       "<td>1.0</td>\n",
       "<td>0.1983240</td>\n",
       "<td>0.7918994</td>\n",
       "<td>97.7653631</td>\n",
       "<td>97.7653631</td></tr>\n",
       "<tr><td></td>\n",
       "<td>11</td>\n",
       "<td>0.5</td>\n",
       "<td>0.6270692</td>\n",
       "<td>1.9215500</td>\n",
       "<td>1.9664804</td>\n",
       "<td>0.9716312</td>\n",
       "<td>0.9943503</td>\n",
       "<td>0.1913408</td>\n",
       "<td>0.9832402</td>\n",
       "<td>92.1549982</td>\n",
       "<td>96.6480447</td></tr>\n",
       "<tr><td></td>\n",
       "<td>12</td>\n",
       "<td>0.6002825</td>\n",
       "<td>0.0028480</td>\n",
       "<td>0.1671257</td>\n",
       "<td>1.6658824</td>\n",
       "<td>0.0845070</td>\n",
       "<td>0.8423529</td>\n",
       "<td>0.0167598</td>\n",
       "<td>1.0</td>\n",
       "<td>-83.2874341</td>\n",
       "<td>66.5882353</td></tr>\n",
       "<tr><td></td>\n",
       "<td>13</td>\n",
       "<td>0.6998588</td>\n",
       "<td>0.0003646</td>\n",
       "<td>0.0</td>\n",
       "<td>1.4288597</td>\n",
       "<td>0.0</td>\n",
       "<td>0.7225025</td>\n",
       "<td>0.0</td>\n",
       "<td>1.0</td>\n",
       "<td>-100.0</td>\n",
       "<td>42.8859738</td></tr>\n",
       "<tr><td></td>\n",
       "<td>14</td>\n",
       "<td>0.8001412</td>\n",
       "<td>0.0001077</td>\n",
       "<td>0.0</td>\n",
       "<td>1.2497793</td>\n",
       "<td>0.0</td>\n",
       "<td>0.6319506</td>\n",
       "<td>0.0</td>\n",
       "<td>1.0</td>\n",
       "<td>-100.0</td>\n",
       "<td>24.9779347</td></tr>\n",
       "<tr><td></td>\n",
       "<td>15</td>\n",
       "<td>0.8997175</td>\n",
       "<td>0.0000218</td>\n",
       "<td>0.0</td>\n",
       "<td>1.1114600</td>\n",
       "<td>0.0</td>\n",
       "<td>0.5620094</td>\n",
       "<td>0.0</td>\n",
       "<td>1.0</td>\n",
       "<td>-100.0</td>\n",
       "<td>11.1459969</td></tr>\n",
       "<tr><td></td>\n",
       "<td>16</td>\n",
       "<td>1.0</td>\n",
       "<td>0.0000000</td>\n",
       "<td>0.0</td>\n",
       "<td>1.0</td>\n",
       "<td>0.0</td>\n",
       "<td>0.5056497</td>\n",
       "<td>0.0</td>\n",
       "<td>1.0</td>\n",
       "<td>-100.0</td>\n",
       "<td>0.0</td></tr></table></div>"
      ],
      "text/plain": [
       "    group    cumulative_data_fraction    lower_threshold    lift      cumulative_lift    response_rate    cumulative_response_rate    capture_rate    cumulative_capture_rate    gain      cumulative_gain\n",
       "--  -------  --------------------------  -----------------  --------  -----------------  ---------------  --------------------------  --------------  -------------------------  --------  -----------------\n",
       "    1        0.0105932                   0.999999           1.97765   1.97765            1                1                           0.0209497       0.0209497                  97.7654   97.7654\n",
       "    2        0.0204802                   0.999998           1.97765   1.97765            1                1                           0.0195531       0.0405028                  97.7654   97.7654\n",
       "    3        0.0303672                   0.999997           1.97765   1.97765            1                1                           0.0195531       0.0600559                  97.7654   97.7654\n",
       "    4        0.0402542                   0.999996           1.97765   1.97765            1                1                           0.0195531       0.0796089                  97.7654   97.7654\n",
       "    5        0.0501412                   0.999995           1.97765   1.97765            1                1                           0.0195531       0.099162                   97.7654   97.7654\n",
       "    6        0.100282                    0.999986           1.97765   1.97765            1                1                           0.099162        0.198324                   97.7654   97.7654\n",
       "    7        0.150424                    0.999967           1.97765   1.97765            1                1                           0.099162        0.297486                   97.7654   97.7654\n",
       "    8        0.200565                    0.999931           1.97765   1.97765            1                1                           0.099162        0.396648                   97.7654   97.7654\n",
       "    9        0.300141                    0.99969            1.97765   1.97765            1                1                           0.196927        0.593575                   97.7654   97.7654\n",
       "    10       0.400424                    0.997736           1.97765   1.97765            1                1                           0.198324        0.791899                   97.7654   97.7654\n",
       "    11       0.5                         0.627069           1.92155   1.96648            0.971631         0.99435                     0.191341        0.98324                    92.155    96.648\n",
       "    12       0.600282                    0.00284798         0.167126  1.66588            0.084507         0.842353                    0.0167598       1                          -83.2874  66.5882\n",
       "    13       0.699859                    0.000364594        0         1.42886            0                0.722503                    0               1                          -100      42.886\n",
       "    14       0.800141                    0.000107703        0         1.24978            0                0.631951                    0               1                          -100      24.9779\n",
       "    15       0.899718                    2.18127e-05        0         1.11146            0                0.562009                    0               1                          -100      11.146\n",
       "    16       1                           9.19068e-09        0         1                  0                0.50565                     0               1                          -100      0"
      ]
     },
     "metadata": {},
     "output_type": "display_data"
    },
    {
     "name": "stdout",
     "output_type": "stream",
     "text": [
      "\n",
      "Cross-Validation Metrics Summary: \n"
     ]
    },
    {
     "data": {
      "text/html": [
       "<div style=\"overflow:auto\"><table style=\"width:50%\"><tr><td><b></b></td>\n",
       "<td><b>mean</b></td>\n",
       "<td><b>sd</b></td>\n",
       "<td><b>cv_1_valid</b></td>\n",
       "<td><b>cv_2_valid</b></td>\n",
       "<td><b>cv_3_valid</b></td>\n",
       "<td><b>cv_4_valid</b></td>\n",
       "<td><b>cv_5_valid</b></td></tr>\n",
       "<tr><td>accuracy</td>\n",
       "<td>0.9957622</td>\n",
       "<td>0.0024485</td>\n",
       "<td>0.9964789</td>\n",
       "<td>0.9964665</td>\n",
       "<td>0.9893993</td>\n",
       "<td>1.0</td>\n",
       "<td>0.9964665</td></tr>\n",
       "<tr><td>auc</td>\n",
       "<td>0.9997009</td>\n",
       "<td>0.0002029</td>\n",
       "<td>0.9993553</td>\n",
       "<td>0.9999</td>\n",
       "<td>0.9993494</td>\n",
       "<td>1.0</td>\n",
       "<td>0.9999000</td></tr>\n",
       "<tr><td>err</td>\n",
       "<td>0.0042378</td>\n",
       "<td>0.0024485</td>\n",
       "<td>0.0035211</td>\n",
       "<td>0.0035336</td>\n",
       "<td>0.0106007</td>\n",
       "<td>0.0</td>\n",
       "<td>0.0035336</td></tr>\n",
       "<tr><td>err_count</td>\n",
       "<td>1.2</td>\n",
       "<td>0.6928203</td>\n",
       "<td>1.0</td>\n",
       "<td>1.0</td>\n",
       "<td>3.0</td>\n",
       "<td>0.0</td>\n",
       "<td>1.0</td></tr>\n",
       "<tr><td>f0point5</td>\n",
       "<td>0.9939929</td>\n",
       "<td>0.0043400</td>\n",
       "<td>0.9943978</td>\n",
       "<td>0.9985207</td>\n",
       "<td>0.9825327</td>\n",
       "<td>1.0</td>\n",
       "<td>0.9945130</td></tr>\n",
       "<tr><td>---</td>\n",
       "<td>---</td>\n",
       "<td>---</td>\n",
       "<td>---</td>\n",
       "<td>---</td>\n",
       "<td>---</td>\n",
       "<td>---</td>\n",
       "<td>---</td></tr>\n",
       "<tr><td>r2</td>\n",
       "<td>0.9712006</td>\n",
       "<td>0.0099111</td>\n",
       "<td>0.9682302</td>\n",
       "<td>0.96793</td>\n",
       "<td>0.9481829</td>\n",
       "<td>0.9873980</td>\n",
       "<td>0.9842623</td></tr>\n",
       "<tr><td>recall</td>\n",
       "<td>0.9985294</td>\n",
       "<td>0.0020797</td>\n",
       "<td>1.0</td>\n",
       "<td>0.9926470</td>\n",
       "<td>1.0</td>\n",
       "<td>1.0</td>\n",
       "<td>1.0</td></tr>\n",
       "<tr><td>residual_deviance</td>\n",
       "<td>13.783629</td>\n",
       "<td>3.7085242</td>\n",
       "<td>16.770203</td>\n",
       "<td>15.558246</td>\n",
       "<td>21.001318</td>\n",
       "<td>6.8939395</td>\n",
       "<td>8.694446</td></tr>\n",
       "<tr><td>rmse</td>\n",
       "<td>0.0821484</td>\n",
       "<td>0.0147398</td>\n",
       "<td>0.0891204</td>\n",
       "<td>0.0894728</td>\n",
       "<td>0.1136967</td>\n",
       "<td>0.0557464</td>\n",
       "<td>0.0627059</td></tr>\n",
       "<tr><td>specificity</td>\n",
       "<td>0.9930883</td>\n",
       "<td>0.0052357</td>\n",
       "<td>0.9929578</td>\n",
       "<td>1.0</td>\n",
       "<td>0.9797297</td>\n",
       "<td>1.0</td>\n",
       "<td>0.9927536</td></tr></table></div>"
      ],
      "text/plain": [
       "                   mean          sd            cv_1_valid    cv_2_valid    cv_3_valid    cv_4_valid    cv_5_valid\n",
       "-----------------  ------------  ------------  ------------  ------------  ------------  ------------  ------------\n",
       "accuracy           0.9957622     0.0024484901  0.99647886    0.99646646    0.9893993     1.0           0.99646646\n",
       "auc                0.9997009     2.0292433E-4  0.9993553     0.9999        0.99934936    1.0           0.99990004\n",
       "err                0.0042377943  0.0024484901  0.0035211267  0.003533569   0.010600707   0.0           0.003533569\n",
       "err_count          1.2           0.6928203     1.0           1.0           3.0           0.0           1.0\n",
       "f0point5           0.99399287    0.004339997   0.99439776    0.99852073    0.98253274    1.0           0.99451303\n",
       "---                ---           ---           ---           ---           ---           ---           ---\n",
       "r2                 0.97120064    0.009911097   0.9682302     0.96793       0.9481829     0.98739797    0.9842623\n",
       "recall             0.99852943    0.0020797257  1.0           0.99264705    1.0           1.0           1.0\n",
       "residual_deviance  13.783629     3.7085242     16.770203     15.558246     21.001318     6.8939395     8.694446\n",
       "rmse               0.08214845    0.014739845   0.08912044    0.08947282    0.11369672    0.055746414   0.06270586\n",
       "specificity        0.99308825    0.005235682   0.9929578     1.0           0.9797297     1.0           0.9927536"
      ]
     },
     "metadata": {},
     "output_type": "display_data"
    },
    {
     "name": "stdout",
     "output_type": "stream",
     "text": [
      "\n",
      "See the whole table with table.as_data_frame()\n",
      "Scoring History: \n"
     ]
    },
    {
     "data": {
      "text/html": [
       "<div style=\"overflow:auto\"><table style=\"width:50%\"><tr><td><b></b></td>\n",
       "<td><b>timestamp</b></td>\n",
       "<td><b>duration</b></td>\n",
       "<td><b>iteration</b></td>\n",
       "<td><b>lambda</b></td>\n",
       "<td><b>predictors</b></td>\n",
       "<td><b>deviance_train</b></td>\n",
       "<td><b>deviance_test</b></td>\n",
       "<td><b>deviance_xval</b></td>\n",
       "<td><b>deviance_se</b></td></tr>\n",
       "<tr><td></td>\n",
       "<td>2018-07-29 12:43:57</td>\n",
       "<td> 0.000 sec</td>\n",
       "<td>3</td>\n",
       "<td>.4E2</td>\n",
       "<td>2040</td>\n",
       "<td>0.8038446</td>\n",
       "<td>0.8253485</td>\n",
       "<td>0.8728557</td>\n",
       "<td>0.0053181</td></tr>\n",
       "<tr><td></td>\n",
       "<td>2018-07-29 12:44:03</td>\n",
       "<td> 5.893 sec</td>\n",
       "<td>5</td>\n",
       "<td>.29E2</td>\n",
       "<td>2042</td>\n",
       "<td>0.7152419</td>\n",
       "<td>0.7394175</td>\n",
       "<td>0.7856088</td>\n",
       "<td>0.0061185</td></tr>\n",
       "<tr><td></td>\n",
       "<td>2018-07-29 12:44:10</td>\n",
       "<td>13.278 sec</td>\n",
       "<td>7</td>\n",
       "<td>.21E2</td>\n",
       "<td>2047</td>\n",
       "<td>0.6282854</td>\n",
       "<td>0.6550120</td>\n",
       "<td>0.6977511</td>\n",
       "<td>0.0068583</td></tr>\n",
       "<tr><td></td>\n",
       "<td>2018-07-29 12:44:17</td>\n",
       "<td>20.632 sec</td>\n",
       "<td>9</td>\n",
       "<td>.16E2</td>\n",
       "<td>2047</td>\n",
       "<td>0.5466241</td>\n",
       "<td>0.5756538</td>\n",
       "<td>0.6132867</td>\n",
       "<td>0.0074496</td></tr>\n",
       "<tr><td></td>\n",
       "<td>2018-07-29 12:44:24</td>\n",
       "<td>26.845 sec</td>\n",
       "<td>11</td>\n",
       "<td>.11E2</td>\n",
       "<td>2047</td>\n",
       "<td>0.4715824</td>\n",
       "<td>0.5027413</td>\n",
       "<td>0.5348371</td>\n",
       "<td>0.0078514</td></tr>\n",
       "<tr><td>---</td>\n",
       "<td>---</td>\n",
       "<td>---</td>\n",
       "<td>---</td>\n",
       "<td>---</td>\n",
       "<td>---</td>\n",
       "<td>---</td>\n",
       "<td>---</td>\n",
       "<td>---</td>\n",
       "<td>---</td></tr>\n",
       "<tr><td></td>\n",
       "<td>2018-07-29 12:47:42</td>\n",
       "<td> 3 min 44.951 sec</td>\n",
       "<td>67</td>\n",
       "<td>.14E-1</td>\n",
       "<td>2049</td>\n",
       "<td>0.0068284</td>\n",
       "<td>0.0718812</td>\n",
       "<td>0.0523252</td>\n",
       "<td>0.0083480</td></tr>\n",
       "<tr><td></td>\n",
       "<td>2018-07-29 12:47:53</td>\n",
       "<td> 3 min 56.028 sec</td>\n",
       "<td>70</td>\n",
       "<td>.1E-1</td>\n",
       "<td>2049</td>\n",
       "<td>0.0053098</td>\n",
       "<td>0.0713495</td>\n",
       "<td>0.0509724</td>\n",
       "<td>0.0085674</td></tr>\n",
       "<tr><td></td>\n",
       "<td>2018-07-29 12:48:04</td>\n",
       "<td> 4 min  7.638 sec</td>\n",
       "<td>73</td>\n",
       "<td>.76E-2</td>\n",
       "<td>2049</td>\n",
       "<td>0.0041174</td>\n",
       "<td>0.0711082</td>\n",
       "<td>0.0499377</td>\n",
       "<td>0.0088068</td></tr>\n",
       "<tr><td></td>\n",
       "<td>2018-07-29 12:48:16</td>\n",
       "<td> 4 min 19.103 sec</td>\n",
       "<td>76</td>\n",
       "<td>.55E-2</td>\n",
       "<td>2049</td>\n",
       "<td>0.0031836</td>\n",
       "<td>0.0710464</td>\n",
       "<td>0.0492133</td>\n",
       "<td>0.0090382</td></tr>\n",
       "<tr><td></td>\n",
       "<td>2018-07-29 12:48:27</td>\n",
       "<td> 4 min 30.610 sec</td>\n",
       "<td>79</td>\n",
       "<td>.4E-2</td>\n",
       "<td>2049</td>\n",
       "<td>0.0024553</td>\n",
       "<td>0.0712542</td>\n",
       "<td>0.0</td>\n",
       "<td>0.0</td></tr></table></div>"
      ],
      "text/plain": [
       "     timestamp            duration          iteration    lambda    predictors    deviance_train         deviance_test        deviance_xval         deviance_se\n",
       "---  -------------------  ----------------  -----------  --------  ------------  ---------------------  -------------------  --------------------  --------------------\n",
       "     2018-07-29 12:43:57  0.000 sec         3            .4E2      2040          0.8038446094789111     0.8253485175916998   0.8728557085832953    0.005318074779677457\n",
       "     2018-07-29 12:44:03  5.893 sec         5            .29E2     2042          0.7152419191406527     0.7394174683575275   0.7856087560130482    0.00611851024748675\n",
       "     2018-07-29 12:44:10  13.278 sec        7            .21E2     2047          0.628285357976155      0.655011986395824    0.6977511330631703    0.006858302316159261\n",
       "     2018-07-29 12:44:17  20.632 sec        9            .16E2     2047          0.5466240899147824     0.5756537554663643   0.6132866876146509    0.007449643880071731\n",
       "     2018-07-29 12:44:24  26.845 sec        11           .11E2     2047          0.47158235573977253    0.502741329884751    0.5348371017619933    0.007851350728111228\n",
       "---  ---                  ---               ---          ---       ---           ---                    ---                  ---                   ---\n",
       "     2018-07-29 12:47:42  3 min 44.951 sec  67           .14E-1    2049          0.006828448815940579   0.07188121781314212  0.05232517778810736   0.008347987725907393\n",
       "     2018-07-29 12:47:53  3 min 56.028 sec  70           .1E-1     2049          0.005309757774807182   0.07134946364964885  0.050972415843454785  0.008567380252951654\n",
       "     2018-07-29 12:48:04  4 min  7.638 sec  73           .76E-2    2049          0.00411736687129012    0.07110824791389529  0.04993772890848698   0.008806831680049367\n",
       "     2018-07-29 12:48:16  4 min 19.103 sec  76           .55E-2    2049          0.0031836276746635165  0.07104635351600676  0.049213254634928774  0.009038189834698077\n",
       "     2018-07-29 12:48:27  4 min 30.610 sec  79           .4E-2     2049          0.002455333552976339   0.07125419040646097  0.0                   0.0"
      ]
     },
     "metadata": {},
     "output_type": "display_data"
    },
    {
     "name": "stdout",
     "output_type": "stream",
     "text": [
      "\n",
      "See the whole table with table.as_data_frame()\n"
     ]
    },
    {
     "data": {
      "text/plain": []
     },
     "execution_count": 13,
     "metadata": {},
     "output_type": "execute_result"
    }
   ],
   "source": [
    "aml.leader"
   ]
  },
  {
   "cell_type": "code",
   "execution_count": 14,
   "metadata": {},
   "outputs": [
    {
     "name": "stdout",
     "output_type": "stream",
     "text": [
      "glm prediction progress: |████████████████████████████████████████████████| 100%\n"
     ]
    }
   ],
   "source": [
    "# predict against the test set\n",
    "# preds = aml.predict(test)\n",
    "\n",
    "# or:\n",
    "preds = aml.leader.predict(test)"
   ]
  },
  {
   "cell_type": "code",
   "execution_count": 20,
   "metadata": {},
   "outputs": [
    {
     "data": {
      "text/html": [
       "<table>\n",
       "<thead>\n",
       "<tr><th style=\"text-align: right;\">  predict</th></tr>\n",
       "</thead>\n",
       "<tbody>\n",
       "<tr><td style=\"text-align: right;\">        0</td></tr>\n",
       "<tr><td style=\"text-align: right;\">        0</td></tr>\n",
       "<tr><td style=\"text-align: right;\">        0</td></tr>\n",
       "<tr><td style=\"text-align: right;\">        0</td></tr>\n",
       "<tr><td style=\"text-align: right;\">        1</td></tr>\n",
       "<tr><td style=\"text-align: right;\">        1</td></tr>\n",
       "<tr><td style=\"text-align: right;\">        1</td></tr>\n",
       "<tr><td style=\"text-align: right;\">        0</td></tr>\n",
       "<tr><td style=\"text-align: right;\">        0</td></tr>\n",
       "<tr><td style=\"text-align: right;\">        0</td></tr>\n",
       "</tbody>\n",
       "</table>"
      ]
     },
     "metadata": {},
     "output_type": "display_data"
    },
    {
     "data": {
      "text/plain": []
     },
     "execution_count": 20,
     "metadata": {},
     "output_type": "execute_result"
    }
   ],
   "source": [
    "preds['predict']"
   ]
  },
  {
   "cell_type": "code",
   "execution_count": 33,
   "metadata": {},
   "outputs": [
    {
     "data": {
      "text/html": [
       "<div>\n",
       "<style scoped>\n",
       "    .dataframe tbody tr th:only-of-type {\n",
       "        vertical-align: middle;\n",
       "    }\n",
       "\n",
       "    .dataframe tbody tr th {\n",
       "        vertical-align: top;\n",
       "    }\n",
       "\n",
       "    .dataframe thead th {\n",
       "        text-align: right;\n",
       "    }\n",
       "</style>\n",
       "<table border=\"1\" class=\"dataframe\">\n",
       "  <thead>\n",
       "    <tr style=\"text-align: right;\">\n",
       "      <th></th>\n",
       "      <th>label</th>\n",
       "      <th>imagePath</th>\n",
       "      <th>predict</th>\n",
       "    </tr>\n",
       "  </thead>\n",
       "  <tbody>\n",
       "    <tr>\n",
       "      <th>0</th>\n",
       "      <td>0</td>\n",
       "      <td>/home/james/data/dogscats/train/cat.11202.jpg</td>\n",
       "      <td>0</td>\n",
       "    </tr>\n",
       "    <tr>\n",
       "      <th>1</th>\n",
       "      <td>0</td>\n",
       "      <td>/home/james/data/dogscats/train/cat.10033.jpg</td>\n",
       "      <td>0</td>\n",
       "    </tr>\n",
       "    <tr>\n",
       "      <th>2</th>\n",
       "      <td>0</td>\n",
       "      <td>/home/james/data/dogscats/train/cat.11875.jpg</td>\n",
       "      <td>0</td>\n",
       "    </tr>\n",
       "    <tr>\n",
       "      <th>3</th>\n",
       "      <td>0</td>\n",
       "      <td>/home/james/data/dogscats/train/cat.2571.jpg</td>\n",
       "      <td>0</td>\n",
       "    </tr>\n",
       "    <tr>\n",
       "      <th>4</th>\n",
       "      <td>1</td>\n",
       "      <td>/home/james/data/dogscats/train/dog.638.jpg</td>\n",
       "      <td>1</td>\n",
       "    </tr>\n",
       "  </tbody>\n",
       "</table>\n",
       "</div>"
      ],
      "text/plain": [
       "   label                                      imagePath  predict\n",
       "0      0  /home/james/data/dogscats/train/cat.11202.jpg        0\n",
       "1      0  /home/james/data/dogscats/train/cat.10033.jpg        0\n",
       "2      0  /home/james/data/dogscats/train/cat.11875.jpg        0\n",
       "3      0   /home/james/data/dogscats/train/cat.2571.jpg        0\n",
       "4      1    /home/james/data/dogscats/train/dog.638.jpg        1"
      ]
     },
     "execution_count": 33,
     "metadata": {},
     "output_type": "execute_result"
    }
   ],
   "source": [
    "test_df_01 = test[:, ['label', 'imagePath']].cbind(preds['predict']).as_data_frame()\n",
    "test_df_01.head()"
   ]
  },
  {
   "cell_type": "markdown",
   "metadata": {},
   "source": [
    "Calculate the confusion matrix from the predictions provided by the H2O model."
   ]
  },
  {
   "cell_type": "code",
   "execution_count": 34,
   "metadata": {},
   "outputs": [
    {
     "data": {
      "text/html": [
       "<div>\n",
       "<style scoped>\n",
       "    .dataframe tbody tr th:only-of-type {\n",
       "        vertical-align: middle;\n",
       "    }\n",
       "\n",
       "    .dataframe tbody tr th {\n",
       "        vertical-align: top;\n",
       "    }\n",
       "\n",
       "    .dataframe thead th {\n",
       "        text-align: right;\n",
       "    }\n",
       "</style>\n",
       "<table border=\"1\" class=\"dataframe\">\n",
       "  <thead>\n",
       "    <tr style=\"text-align: right;\">\n",
       "      <th>predict</th>\n",
       "      <th>0</th>\n",
       "      <th>1</th>\n",
       "    </tr>\n",
       "    <tr>\n",
       "      <th>label</th>\n",
       "      <th></th>\n",
       "      <th></th>\n",
       "    </tr>\n",
       "  </thead>\n",
       "  <tbody>\n",
       "    <tr>\n",
       "      <th>0</th>\n",
       "      <td>380</td>\n",
       "      <td>2</td>\n",
       "    </tr>\n",
       "    <tr>\n",
       "      <th>1</th>\n",
       "      <td>3</td>\n",
       "      <td>359</td>\n",
       "    </tr>\n",
       "  </tbody>\n",
       "</table>\n",
       "</div>"
      ],
      "text/plain": [
       "predict    0    1\n",
       "label            \n",
       "0        380    2\n",
       "1          3  359"
      ]
     },
     "execution_count": 34,
     "metadata": {},
     "output_type": "execute_result"
    }
   ],
   "source": [
    "pd.crosstab(test_df_01.label, test_df_01.predict)"
   ]
  },
  {
   "cell_type": "markdown",
   "metadata": {},
   "source": [
    "Only 5 misclassifications (if you had the same randomisation as me)! Let's have a look at what they were."
   ]
  },
  {
   "cell_type": "code",
   "execution_count": 36,
   "metadata": {},
   "outputs": [
    {
     "data": {
      "text/plain": [
       "104    /home/james/data/dogscats/train/cat.2150.jpg\n",
       "119    /home/james/data/dogscats/train/dog.5959.jpg\n",
       "124    /home/james/data/dogscats/train/dog.9126.jpg\n",
       "483    /home/james/data/dogscats/train/dog.7223.jpg\n",
       "621    /home/james/data/dogscats/train/cat.3822.jpg\n",
       "Name: imagePath, dtype: object"
      ]
     },
     "execution_count": 36,
     "metadata": {},
     "output_type": "execute_result"
    }
   ],
   "source": [
    "test_df_01.loc[test_df_01['predict'] != test_df_01['label'], 'imagePath']"
   ]
  },
  {
   "cell_type": "code",
   "execution_count": 37,
   "metadata": {},
   "outputs": [
    {
     "data": {
      "image/jpeg": "[encoded data removed]",
      "text/plain": [
       "<IPython.core.display.Image object>"
      ]
     },
     "execution_count": 37,
     "metadata": {},
     "output_type": "execute_result"
    }
   ],
   "source": [
    "from IPython.display import Image\n",
    "Image(\"/Users/jamespearce/repos/dl/data/dogscats/train/cat.2150.jpg\")"
   ]
  },
  {
   "cell_type": "markdown",
   "metadata": {},
   "source": [
    "I guess it could be a dog ... but I know it's a cat."
   ]
  },
  {
   "cell_type": "code",
   "execution_count": 38,
   "metadata": {},
   "outputs": [
    {
     "data": {
      "image/jpeg": "[encoded data removed]",
      "text/plain": [
       "<IPython.core.display.Image object>"
      ]
     },
     "execution_count": 38,
     "metadata": {},
     "output_type": "execute_result"
    }
   ],
   "source": [
    "Image(\"/Users/jamespearce/repos/dl/data/dogscats/train/dog.5959.jpg\")"
   ]
  },
  {
   "cell_type": "markdown",
   "metadata": {},
   "source": [
    "A bit blurry ..."
   ]
  },
  {
   "cell_type": "code",
   "execution_count": 39,
   "metadata": {},
   "outputs": [
    {
     "data": {
      "image/jpeg": "[encoded data removed]",
      "text/plain": [
       "<IPython.core.display.Image object>"
      ]
     },
     "execution_count": 39,
     "metadata": {},
     "output_type": "execute_result"
    }
   ],
   "source": [
    "Image(\"/Users/jamespearce/repos/dl/data/dogscats/train/dog.9126.jpg\")"
   ]
  },
  {
   "cell_type": "markdown",
   "metadata": {},
   "source": [
    "Two dogs (why do you ask?)."
   ]
  },
  {
   "cell_type": "code",
   "execution_count": 40,
   "metadata": {},
   "outputs": [
    {
     "data": {
      "image/jpeg": "[encoded data removed]",
      "text/plain": [
       "<IPython.core.display.Image object>"
      ]
     },
     "execution_count": 40,
     "metadata": {},
     "output_type": "execute_result"
    }
   ],
   "source": [
    "Image(\"/Users/jamespearce/repos/dl/data/dogscats/train/dog.7223.jpg\")"
   ]
  },
  {
   "cell_type": "markdown",
   "metadata": {},
   "source": [
    "..."
   ]
  },
  {
   "cell_type": "code",
   "execution_count": 41,
   "metadata": {},
   "outputs": [
    {
     "data": {
      "image/jpeg": "[encoded data removed]",
      "text/plain": [
       "<IPython.core.display.Image object>"
      ]
     },
     "execution_count": 41,
     "metadata": {},
     "output_type": "execute_result"
    }
   ],
   "source": [
    "Image(\"/Users/jamespearce/repos/dl/data/dogscats/train/cat.3822.jpg\")"
   ]
  },
  {
   "cell_type": "markdown",
   "metadata": {},
   "source": [
    "Not really fair – there's a dog there too!"
   ]
  },
  {
   "cell_type": "markdown",
   "metadata": {},
   "source": [
    "### Save the models and   predictions"
   ]
  },
  {
   "cell_type": "code",
   "execution_count": 44,
   "metadata": {},
   "outputs": [
    {
     "data": {
      "text/plain": [
       "'/Users/jamespearce/repos/dl/notebooks/GLM_grid_0_AutoML_20180729_122517_model_0.zip'"
      ]
     },
     "execution_count": 44,
     "metadata": {},
     "output_type": "execute_result"
    }
   ],
   "source": [
    "aml.leader.save_mojo()"
   ]
  },
  {
   "cell_type": "code",
   "execution_count": 45,
   "metadata": {},
   "outputs": [
    {
     "data": {
      "text/plain": [
       "'/Users/jamespearce/repos/dl/notebooks/GLM_grid_0_AutoML_20180729_122517_model_0'"
      ]
     },
     "execution_count": 45,
     "metadata": {},
     "output_type": "execute_result"
    }
   ],
   "source": [
    "h2o.save_model(aml.leader)"
   ]
  },
  {
   "cell_type": "code",
   "execution_count": 48,
   "metadata": {},
   "outputs": [],
   "source": [
    "test_df_01.to_pickle(\"dogscats_pred.pkl\")"
   ]
  },
  {
   "cell_type": "code",
   "execution_count": 47,
   "metadata": {},
   "outputs": [
    {
     "name": "stdout",
     "output_type": "stream",
     "text": [
      "H2O session _sid_ab88 closed.\n"
     ]
    }
   ],
   "source": [
    "h2o.cluster().shutdown()"
   ]
  },
  {
   "cell_type": "code",
   "execution_count": null,
   "metadata": {},
   "outputs": [],
   "source": []
  }
 ],
 "metadata": {
  "kernelspec": {
   "display_name": "Python 3",
   "language": "python",
   "name": "python3"
  },
  "language_info": {
   "codemirror_mode": {
    "name": "ipython",
    "version": 3
   },
   "file_extension": ".py",
   "mimetype": "text/x-python",
   "name": "python",
   "nbconvert_exporter": "python",
   "pygments_lexer": "ipython3",
   "version": "3.6.6"
  }
 },
 "nbformat": 4,
 "nbformat_minor": 2
}
